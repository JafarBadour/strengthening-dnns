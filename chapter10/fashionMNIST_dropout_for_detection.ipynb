{
 "cells": [
  {
   "cell_type": "markdown",
   "metadata": {},
   "source": [
    "> Code to accompany **Chapter 10: Defending Against Adversarial Inputs**"
   ]
  },
  {
   "cell_type": "markdown",
   "metadata": {},
   "source": [
    "# Fashion-MNIST - Dropout for Adversarial Detection\n",
    "\n",
    "In this notebook, we'll create a classifier that uses drop-out during test as well as training time. This introduces\n",
    "uncertainty to the network's predictions so each time an image is passed to the network, it will generated a slightly \n",
    "different answer.\n",
    "\n",
    "Adding uncertainty to test time may result in reduced accuracy. However, the point of a model of this type is to distinguish adversarial from non-adversarial. Therefore, it might run alongside another model during operations. \n",
    "\n",
    "In theory, the uncertainty (variation) in the answers for a particular image will be greater when an image is not \n",
    "within the training data set distribution. Refer to  __Chapter 10__ for a more detailed discussion."
   ]
  },
  {
   "cell_type": "markdown",
   "metadata": {},
   "source": [
    "## Import and get the data"
   ]
  },
  {
   "cell_type": "code",
   "execution_count": 1,
   "metadata": {},
   "outputs": [],
   "source": [
    "import tensorflow as tf\n",
    "from tensorflow import keras\n",
    "fashion_mnist = tf.keras.datasets.fashion_mnist\n",
    "(train_images, train_labels), (test_images, test_labels) = fashion_mnist.load_data()\n",
    "train_images = train_images/255.0\n",
    "test_images = test_images/255.0"
   ]
  },
  {
   "cell_type": "markdown",
   "metadata": {},
   "source": [
    "## Create a Simple Network with drop-out for Image Classification\n",
    "\n",
    "We need to use the Keras __functional API__ (rather than the sequential API) to access the \n",
    "dropout capability with `training = True` at test time. \n",
    "\n",
    "You can experiment by moving the drop-out layer or the level of dropout."
   ]
  },
  {
   "cell_type": "code",
   "execution_count": 2,
   "metadata": {},
   "outputs": [
    {
     "name": "stdout",
     "output_type": "stream",
     "text": [
      "WARNING:tensorflow:From C:\\Users\\katyw\\Anaconda3\\envs\\strengthening-dnns\\lib\\site-packages\\tensorflow\\python\\ops\\resource_variable_ops.py:435: colocate_with (from tensorflow.python.framework.ops) is deprecated and will be removed in a future version.\n",
      "Instructions for updating:\n",
      "Colocations handled automatically by placer.\n",
      "WARNING:tensorflow:From C:\\Users\\katyw\\Anaconda3\\envs\\strengthening-dnns\\lib\\site-packages\\tensorflow\\python\\keras\\layers\\core.py:143: calling dropout (from tensorflow.python.ops.nn_ops) with keep_prob is deprecated and will be removed in a future version.\n",
      "Instructions for updating:\n",
      "Please use `rate` instead of `keep_prob`. Rate should be set to `rate = 1 - keep_prob`.\n",
      "_________________________________________________________________\n",
      "Layer (type)                 Output Shape              Param #   \n",
      "=================================================================\n",
      "input_1 (InputLayer)         (None, 28, 28)            0         \n",
      "_________________________________________________________________\n",
      "flatten (Flatten)            (None, 784)               0         \n",
      "_________________________________________________________________\n",
      "dense (Dense)                (None, 56)                43960     \n",
      "_________________________________________________________________\n",
      "dropout (Dropout)            (None, 56)                0         \n",
      "_________________________________________________________________\n",
      "dense_1 (Dense)              (None, 56)                3192      \n",
      "_________________________________________________________________\n",
      "dense_2 (Dense)              (None, 10)                570       \n",
      "=================================================================\n",
      "Total params: 47,722\n",
      "Trainable params: 47,722\n",
      "Non-trainable params: 0\n",
      "_________________________________________________________________\n"
     ]
    }
   ],
   "source": [
    "from tensorflow.keras.layers import Input, Dense, Flatten, Dropout\n",
    "from tensorflow.keras.models import Model\n",
    "\n",
    "inputs = Input(shape=(28,28))\n",
    "x = Flatten()(inputs)\n",
    "x = Dense(56, activation='relu')(x)\n",
    "x = Dropout(0.2)(x, training=True)\n",
    "x = Dense(56, activation='relu')(x)\n",
    "predictions = Dense(10, activation='softmax')(x)\n",
    "model = Model(inputs=inputs, outputs=predictions)\n",
    "\n",
    "model.compile(optimizer=tf.train.AdamOptimizer(),\n",
    "              loss='sparse_categorical_crossentropy',\n",
    "              metrics=['accuracy'])\n",
    "model.summary()"
   ]
  },
  {
   "cell_type": "markdown",
   "metadata": {},
   "source": [
    "That's the model architecture defined. Let's train it.\n",
    "\n",
    "Note that more training epochs are used with drop-out; it takes longer to learn as the network needs to contend with the uncertainty."
   ]
  },
  {
   "cell_type": "code",
   "execution_count": 3,
   "metadata": {},
   "outputs": [
    {
     "name": "stdout",
     "output_type": "stream",
     "text": [
      "Epoch 1/12\n",
      "60000/60000 [==============================] - 4s 62us/sample - loss: 0.5811 - acc: 0.7922\n",
      "Epoch 2/12\n",
      "60000/60000 [==============================] - 4s 59us/sample - loss: 0.4296 - acc: 0.8439\n",
      "Epoch 3/12\n",
      "60000/60000 [==============================] - 4s 59us/sample - loss: 0.3992 - acc: 0.8540\n",
      "Epoch 4/12\n",
      "60000/60000 [==============================] - 4s 68us/sample - loss: 0.3797 - acc: 0.8607\n",
      "Epoch 5/12\n",
      "60000/60000 [==============================] - 4s 69us/sample - loss: 0.3610 - acc: 0.8678\n",
      "Epoch 6/12\n",
      "60000/60000 [==============================] - 4s 65us/sample - loss: 0.3531 - acc: 0.8694\n",
      "Epoch 7/12\n",
      "60000/60000 [==============================] - 4s 62us/sample - loss: 0.3440 - acc: 0.8724\n",
      "Epoch 8/12\n",
      "60000/60000 [==============================] - 4s 62us/sample - loss: 0.3361 - acc: 0.8747\n",
      "Epoch 9/12\n",
      "60000/60000 [==============================] - 4s 62us/sample - loss: 0.3268 - acc: 0.8784\n",
      "Epoch 10/12\n",
      "60000/60000 [==============================] - 4s 63us/sample - loss: 0.3224 - acc: 0.8794\n",
      "Epoch 11/12\n",
      "60000/60000 [==============================] - 4s 63us/sample - loss: 0.3182 - acc: 0.8803\n",
      "Epoch 12/12\n",
      "60000/60000 [==============================] - 4s 71us/sample - loss: 0.3094 - acc: 0.8856\n"
     ]
    },
    {
     "data": {
      "text/plain": [
       "<tensorflow.python.keras.callbacks.History at 0x1e2b89cfb70>"
      ]
     },
     "execution_count": 3,
     "metadata": {},
     "output_type": "execute_result"
    }
   ],
   "source": [
    "model.fit(train_images, train_labels, epochs=12)"
   ]
  },
  {
   "cell_type": "markdown",
   "metadata": {},
   "source": [
    "Take a look at the model's accuracy.\n",
    "This will change due to the uncertainty of the network each time you re-run this cell."
   ]
  },
  {
   "cell_type": "code",
   "execution_count": 8,
   "metadata": {},
   "outputs": [
    {
     "name": "stdout",
     "output_type": "stream",
     "text": [
      "10000/10000 [==============================] - 0s 37us/sample - loss: 0.4024 - acc: 0.8618\n",
      "Model accuracy based on test data: 0.8618\n"
     ]
    }
   ],
   "source": [
    "test_loss, test_acc = model.evaluate(test_images, test_labels)\n",
    "print('Model accuracy based on test data:', test_acc)"
   ]
  },
  {
   "cell_type": "markdown",
   "metadata": {},
   "source": [
    "## Get some test data\n",
    "\n",
    "We'll take two test datasets and check each for its level of uncertainty:\n",
    "\n",
    "- x_images - original images (non-adversarial)\n",
    "- x_images_adv - adversarial images\n",
    "\n",
    "The hypothesis is that the network will create more uncertain results with the adversarial images than with the non-adversarial ones."
   ]
  },
  {
   "cell_type": "markdown",
   "metadata": {},
   "source": [
    "First, generate some adversarial test cases.\n"
   ]
  },
  {
   "cell_type": "code",
   "execution_count": 9,
   "metadata": {},
   "outputs": [],
   "source": [
    "num_images = 1000"
   ]
  },
  {
   "cell_type": "code",
   "execution_count": 10,
   "metadata": {},
   "outputs": [],
   "source": [
    "# Import helper function\n",
    "import sys\n",
    "sys.path.append('..')\n",
    "from strengtheningdnns.adversarial_utils import generate_adversarial_data"
   ]
  },
  {
   "cell_type": "code",
   "execution_count": 11,
   "metadata": {},
   "outputs": [],
   "source": [
    "import foolbox\n",
    "\n",
    "fmodel = foolbox.models.TensorFlowModel.from_keras(model, bounds=(0, 1))\n",
    "attack_criterion = foolbox.criteria.Misclassification()\n",
    "x_images = test_images[0:num_images, :]\n",
    "attack_fn = foolbox.attacks.GradientSignAttack(fmodel,\n",
    "criterion=attack_criterion,\n",
    "distance=foolbox.distances.Linfinity)\n",
    "\n",
    "(x_images_adv, _, _) = generate_adversarial_data(original_images = x_images,\n",
    "                                                 predictions = model.predict(x_images),\n",
    "                                                 attack_fn = attack_fn)\n"
   ]
  },
  {
   "cell_type": "markdown",
   "metadata": {},
   "source": [
    "In case the total number of adversarial images couldn't be generated, recalculate the number of images."
   ]
  },
  {
   "cell_type": "code",
   "execution_count": 12,
   "metadata": {},
   "outputs": [],
   "source": [
    "num_images = x_images_adv.shape[0]"
   ]
  },
  {
   "cell_type": "markdown",
   "metadata": {},
   "source": [
    "Next, get the non-adversarial images (the original test data)."
   ]
  },
  {
   "cell_type": "code",
   "execution_count": 13,
   "metadata": {},
   "outputs": [],
   "source": [
    "import numpy as np\n",
    "x_images = test_images[:num_images]"
   ]
  },
  {
   "cell_type": "markdown",
   "metadata": {},
   "source": [
    "\n",
    "We've now got the two test datasets:\n",
    "\n",
    "- x_images\n",
    "- x_images_adv\n",
    "\n",
    "\n",
    "Repeatedly call the drop-out model to get its predictions across the batches of images. \n",
    "Each time it will return a different set of predictions.\n",
    "\n",
    "We build up two prediction matrices:\n",
    "\n",
    "- predictions matrix\n",
    "- predictions_matrix_adv\n"
   ]
  },
  {
   "cell_type": "code",
   "execution_count": 14,
   "metadata": {},
   "outputs": [],
   "source": [
    "L = 100\n",
    "num_classes = 10\n",
    "\n",
    "predictions_matrix = np.zeros((L, num_images, num_classes)) \n",
    "predictions_matrix_adv = np.zeros((L, num_images, num_classes)) \n",
    "\n",
    "for i in range(L):\n",
    "    predictions = model.predict(x_images)\n",
    "    predictions_adv = model.predict(x_images_adv)\n",
    "    predictions_matrix[i] = predictions    \n",
    "    predictions_matrix_adv[i] = predictions_adv   \n"
   ]
  },
  {
   "cell_type": "markdown",
   "metadata": {},
   "source": [
    "## Measuring the uncertainty of the responses\n",
    "\n",
    "The following method calculates a value representing the level of uncertainty over a set of responses __for a single image__ returned from the network.\n",
    "\n",
    "\\begin{align}\n",
    "U(x) = (\\frac{1}{L}{\\sum_{i=1}\\|F_r(x)\\|}) - \n",
    "        \\|\\frac{1}{L}{\\sum_{i=1}F_r(x)}\\|\n",
    "\\end{align}\n",
    "\n",
    "$$\\text{where}\\:\\|y\\| = \\text{the squared}\\: L_2\\text{-norm}$$\n",
    "\n",
    "\n",
    "Reference: https://arxiv.org/abs/1705.07263\n"
   ]
  },
  {
   "cell_type": "code",
   "execution_count": 15,
   "metadata": {},
   "outputs": [],
   "source": [
    "def uncertainty(predictions):\n",
    "    return(np.sum(np.square(predictions))/predictions.shape[0] \n",
    "           - np.sum(np.square(np.mean(predictions, axis=0))))  "
   ]
  },
  {
   "cell_type": "markdown",
   "metadata": {},
   "source": [
    "Calculate the uncertainty for the two image batches."
   ]
  },
  {
   "cell_type": "code",
   "execution_count": 16,
   "metadata": {},
   "outputs": [],
   "source": [
    "uncertainty_results = np.zeros((num_images))\n",
    "uncertainty_results_adv = np.zeros((num_images))\n",
    "\n",
    "for i in range(num_images):\n",
    "    uncertainty_results[i] = uncertainty(predictions_matrix[:,i])\n",
    "    uncertainty_results_adv[i] = uncertainty(predictions_matrix_adv[:,i])"
   ]
  },
  {
   "cell_type": "markdown",
   "metadata": {},
   "source": [
    "Plot the results"
   ]
  },
  {
   "cell_type": "code",
   "execution_count": 21,
   "metadata": {},
   "outputs": [
    {
     "data": {
      "image/png": "[encoded data removed]",
      "text/plain": [
       "<Figure size 432x288 with 1 Axes>"
      ]
     },
     "metadata": {
      "needs_background": "light"
     },
     "output_type": "display_data"
    }
   ],
   "source": [
    "import matplotlib.pyplot as plt\n",
    "\n",
    "plt.hist((uncertainty_results, uncertainty_results_adv), bins=50, label=('Nonadversarial','Adversarial'))\n",
    "\n",
    "plt.title(\"Model prediction uncertainty\")\n",
    "plt.xlabel(\"Uncertainty per image\")\n",
    "plt.ylabel(\"Number of images\")\n",
    "plt.legend(loc='right')\n",
    "\n",
    "#plt.savefig(\"out.png\", bbox_inches='tight', dpi=1000)\n",
    "\n",
    "plt.show()"
   ]
  },
  {
   "cell_type": "markdown",
   "metadata": {},
   "source": [
    "## Where next?\n",
    "You can use this notebook to further experiment with randomized dropout, such \n",
    "as changing the dropout parameters or altering the attack methods.\n",
    "\n",
    "Assuming the attacker has complete knowledge of this defence, they might create their adversarial examples using the drop-out network. To see how the uncertainty of the network affects the ability to create adversarial examples, take a look at \n",
    "[../chapter10/FashionMNIST_dropout_for_detection.ipynb]().\n"
   ]
  },
  {
   "cell_type": "code",
   "execution_count": null,
   "metadata": {},
   "outputs": [],
   "source": []
  }
 ],
 "metadata": {
  "kernelspec": {
   "display_name": "Python (strengthening-dnns)",
   "language": "python",
   "name": "strengthening-dnns"
  },
  "language_info": {
   "codemirror_mode": {
    "name": "ipython",
    "version": 3
   },
   "file_extension": ".py",
   "mimetype": "text/x-python",
   "name": "python",
   "nbconvert_exporter": "python",
   "pygments_lexer": "ipython3",
   "version": "3.7.3"
  }
 },
 "nbformat": 4,
 "nbformat_minor": 2
}
