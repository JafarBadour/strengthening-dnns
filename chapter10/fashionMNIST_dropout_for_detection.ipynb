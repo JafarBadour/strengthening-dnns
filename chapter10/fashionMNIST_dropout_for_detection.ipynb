{
 "cells": [
  {
   "cell_type": "markdown",
   "metadata": {},
   "source": [
    "> Code to accompany **Chapter 10: Defending Against Adversarial Inputs**"
   ]
  },
  {
   "cell_type": "markdown",
   "metadata": {},
   "source": [
    "# Fashion-MNIST - Dropout for Adversarial Detection\n",
    "\n",
    "In this notebook, we'll create a classifier that uses drop-out during test as well as training time. This introduces\n",
    "uncertainty to the network's predictions so each time an image is passed to the network, it will generated a slightly \n",
    "different answer.\n",
    "\n",
    "Adding uncertainty to test time may result in reduced accuracy. However, the point of a model of this type is to distinguish adversarial from non-adversarial. Therefore, it might run alongside another model during operations. \n",
    "\n",
    "In theory, the uncertainty (variation) in the answers for a particular image will be greater when an image is not \n",
    "within the training data set distribution. Refer to  __Chapter 10__ for a more detailed discussion."
   ]
  },
  {
   "cell_type": "code",
   "execution_count": 1,
   "metadata": {},
   "outputs": [],
   "source": [
    "import tensorflow as tf\n",
    "from tensorflow import keras\n",
    "fashion_mnist = tf.keras.datasets.fashion_mnist\n",
    "(train_images, train_labels), (test_images, test_labels) = fashion_mnist.load_data()\n",
    "train_images = train_images/255.0\n",
    "test_images = test_images/255.0"
   ]
  },
  {
   "cell_type": "markdown",
   "metadata": {},
   "source": [
    "## Create a Simple Network with drop-out for Image Classification\n",
    "\n",
    "We need to use the Keras __functional API__ (rather than the sequential API) to access the \n",
    "dropout capability with `training = True` at test time. \n",
    "\n",
    "You can experiment by moving the drop-out layer or the level of dropout."
   ]
  },
  {
   "cell_type": "code",
   "execution_count": 2,
   "metadata": {},
   "outputs": [
    {
     "name": "stdout",
     "output_type": "stream",
     "text": [
      "WARNING:tensorflow:From C:\\Users\\katyw\\Anaconda3\\envs\\strengthening-dnns\\lib\\site-packages\\tensorflow\\python\\ops\\resource_variable_ops.py:435: colocate_with (from tensorflow.python.framework.ops) is deprecated and will be removed in a future version.\n",
      "Instructions for updating:\n",
      "Colocations handled automatically by placer.\n",
      "WARNING:tensorflow:From C:\\Users\\katyw\\Anaconda3\\envs\\strengthening-dnns\\lib\\site-packages\\tensorflow\\python\\keras\\layers\\core.py:143: calling dropout (from tensorflow.python.ops.nn_ops) with keep_prob is deprecated and will be removed in a future version.\n",
      "Instructions for updating:\n",
      "Please use `rate` instead of `keep_prob`. Rate should be set to `rate = 1 - keep_prob`.\n",
      "_________________________________________________________________\n",
      "Layer (type)                 Output Shape              Param #   \n",
      "=================================================================\n",
      "input_1 (InputLayer)         (None, 28, 28)            0         \n",
      "_________________________________________________________________\n",
      "flatten (Flatten)            (None, 784)               0         \n",
      "_________________________________________________________________\n",
      "dense (Dense)                (None, 56)                43960     \n",
      "_________________________________________________________________\n",
      "dropout (Dropout)            (None, 56)                0         \n",
      "_________________________________________________________________\n",
      "dense_1 (Dense)              (None, 56)                3192      \n",
      "_________________________________________________________________\n",
      "dense_2 (Dense)              (None, 10)                570       \n",
      "=================================================================\n",
      "Total params: 47,722\n",
      "Trainable params: 47,722\n",
      "Non-trainable params: 0\n",
      "_________________________________________________________________\n"
     ]
    }
   ],
   "source": [
    "from tensorflow.keras.layers import Input, Dense, Flatten, Dropout\n",
    "from tensorflow.keras.models import Model\n",
    "\n",
    "inputs = Input(shape=(28,28))\n",
    "x = Flatten()(inputs)\n",
    "x = Dense(56, activation='relu')(x)\n",
    "x = Dropout(0.2)(x, training=True)\n",
    "x = Dense(56, activation='relu')(x)\n",
    "predictions = Dense(10, activation='softmax')(x)\n",
    "model = Model(inputs=inputs, outputs=predictions)\n",
    "\n",
    "model.compile(optimizer=tf.train.AdamOptimizer(),\n",
    "              loss='sparse_categorical_crossentropy',\n",
    "              metrics=['accuracy'])\n",
    "model.summary()"
   ]
  },
  {
   "cell_type": "code",
   "execution_count": 3,
   "metadata": {},
   "outputs": [
    {
     "name": "stdout",
     "output_type": "stream",
     "text": [
      "Epoch 1/12\n",
      "60000/60000 [==============================] - 4s 64us/sample - loss: 0.5756 - acc: 0.7952\n",
      "Epoch 2/12\n",
      "60000/60000 [==============================] - 4s 61us/sample - loss: 0.4342 - acc: 0.8414\n",
      "Epoch 3/12\n",
      "60000/60000 [==============================] - 4s 69us/sample - loss: 0.3975 - acc: 0.8535\n",
      "Epoch 4/12\n",
      "60000/60000 [==============================] - 4s 62us/sample - loss: 0.3808 - acc: 0.8600\n",
      "Epoch 5/12\n",
      "60000/60000 [==============================] - 4s 59us/sample - loss: 0.3638 - acc: 0.8654\n",
      "Epoch 6/12\n",
      "60000/60000 [==============================] - 4s 59us/sample - loss: 0.3509 - acc: 0.8706\n",
      "Epoch 7/12\n",
      "60000/60000 [==============================] - 4s 60us/sample - loss: 0.3425 - acc: 0.8731\n",
      "Epoch 8/12\n",
      "60000/60000 [==============================] - 4s 58us/sample - loss: 0.3335 - acc: 0.8771\n",
      "Epoch 9/12\n",
      "60000/60000 [==============================] - 4s 60us/sample - loss: 0.3255 - acc: 0.8791\n",
      "Epoch 10/12\n",
      "60000/60000 [==============================] - 4s 60us/sample - loss: 0.3201 - acc: 0.8806\n",
      "Epoch 11/12\n",
      "60000/60000 [==============================] - 4s 60us/sample - loss: 0.3157 - acc: 0.8824\n",
      "Epoch 12/12\n",
      "60000/60000 [==============================] - 4s 59us/sample - loss: 0.3103 - acc: 0.8841\n"
     ]
    },
    {
     "data": {
      "text/plain": [
       "<tensorflow.python.keras.callbacks.History at 0x20aeaed3b38>"
      ]
     },
     "execution_count": 3,
     "metadata": {},
     "output_type": "execute_result"
    }
   ],
   "source": [
    "model.fit(train_images, train_labels, epochs=12)"
   ]
  },
  {
   "cell_type": "markdown",
   "metadata": {},
   "source": [
    "Take a look at the model's accuracy.\n",
    "This will change due to the uncertainty of the network each time you re-run this cell."
   ]
  },
  {
   "cell_type": "code",
   "execution_count": 4,
   "metadata": {},
   "outputs": [
    {
     "name": "stdout",
     "output_type": "stream",
     "text": [
      "10000/10000 [==============================] - 0s 48us/sample - loss: 0.3828 - acc: 0.8613\n",
      "Model accuracy based on test data: 0.8613\n"
     ]
    }
   ],
   "source": [
    "test_loss, test_acc = model.evaluate(test_images, test_labels)\n",
    "print('Model accuracy based on test data:', test_acc)"
   ]
  },
  {
   "cell_type": "markdown",
   "metadata": {},
   "source": [
    "## Prepare the data that we will use to test\n",
    "\n",
    "We'll take two test datasets and check each for its level of uncertainty:\n",
    "- x_images\n",
    "- x_images_adv\n",
    "\n",
    "For the adversarial images, you can use the images generated on the original model and saved in LINK TODO, or the images generated against the drop-out enabled model and saved in LINK TODO. "
   ]
  },
  {
   "cell_type": "code",
   "execution_count": 5,
   "metadata": {},
   "outputs": [],
   "source": [
    "import numpy as np\n",
    "num_images = 1000\n",
    "x_images = test_images[:num_images]\n",
    "\n",
    "x_images_adv = np.load('../resources/test_images_GSAttack.npy')[:num_images]    \n",
    "#x_images_adv = np.load('../resources/test_images_GSAttack_dropout.npy')[:num_images]\n"
   ]
  },
  {
   "cell_type": "markdown",
   "metadata": {},
   "source": [
    "Repeatedly call the drop-out model to get its predictions across the batches of images. \n",
    "Each time it will return a different set of predictions.\n",
    "\n",
    "We build up two prediction matrices:\n",
    "\n",
    "- predictions matrix\n",
    "- predictions_matrix_adv\n"
   ]
  },
  {
   "cell_type": "code",
   "execution_count": 6,
   "metadata": {},
   "outputs": [],
   "source": [
    "L = 100\n",
    "num_classes = 10\n",
    "\n",
    "predictions_matrix = np.zeros((L, num_images, num_classes)) \n",
    "predictions_matrix_adv = np.zeros((L, num_images, num_classes)) \n",
    "\n",
    "for i in range(L):\n",
    "    predictions = model.predict(x_images)\n",
    "    predictions_adv = model.predict(x_images_adv)\n",
    "    predictions_matrix[i] = predictions    \n",
    "    predictions_matrix_adv[i] = predictions_adv   \n"
   ]
  },
  {
   "cell_type": "markdown",
   "metadata": {},
   "source": [
    "## Measuring the uncertainty of the responses\n",
    "\n",
    "The following method calculates a value representing the level of uncertainty over a set of responses __for a single image__ returned from the network.\n",
    "\n",
    "\\begin{align}\n",
    "U(x) = (\\frac{1}{L}{\\sum_{i=1}\\|F_r(x)\\|}) - \n",
    "        \\|\\frac{1}{L}{\\sum_{i=1}F_r(x)}\\|\n",
    "\\end{align}\n",
    "\n",
    "$$\\text{where}\\:\\|y\\| = \\text{the squared}\\: L_2\\text{-norm}$$\n",
    "\n",
    "\n",
    "Reference: https://arxiv.org/abs/1705.07263\n"
   ]
  },
  {
   "cell_type": "code",
   "execution_count": 7,
   "metadata": {},
   "outputs": [],
   "source": [
    "def uncertainty(predictions):\n",
    "    return(np.sum(np.square(predictions))/predictions.shape[0] \n",
    "           - np.sum(np.square(np.mean(predictions, axis=0))))  "
   ]
  },
  {
   "cell_type": "markdown",
   "metadata": {},
   "source": [
    "Calculate the uncertainty for the two image batches."
   ]
  },
  {
   "cell_type": "code",
   "execution_count": 8,
   "metadata": {},
   "outputs": [],
   "source": [
    "uncertainty_results = np.zeros((num_images))\n",
    "uncertainty_results_adv = np.zeros((num_images))\n",
    "\n",
    "for i in range(num_images):\n",
    "    uncertainty_results[i] = uncertainty(predictions_matrix[:,i])\n",
    "    uncertainty_results_adv[i] = uncertainty(predictions_matrix_adv[:,i])"
   ]
  },
  {
   "cell_type": "markdown",
   "metadata": {},
   "source": [
    "Plot the results"
   ]
  },
  {
   "cell_type": "code",
   "execution_count": 11,
   "metadata": {},
   "outputs": [
    {
     "data": {
      "image/png": "[encoded data removed]",
      "text/plain": [
       "<Figure size 432x288 with 1 Axes>"
      ]
     },
     "metadata": {
      "needs_background": "light"
     },
     "output_type": "display_data"
    }
   ],
   "source": [
    "import matplotlib.pyplot as plt\n",
    "\n",
    "plt.hist((uncertainty_results, uncertainty_results_adv), bins=50, label=('non-adversarial','adversarial'))\n",
    "\n",
    "plt.title(\"Model prediction uncertainty\")\n",
    "plt.xlabel(\"uncertainty per image\")\n",
    "plt.ylabel(\"number of images\")\n",
    "plt.legend(loc='right')\n",
    "\n",
    "plt.show()"
   ]
  },
  {
   "cell_type": "markdown",
   "metadata": {},
   "source": [
    "## Where next?\n",
    "You can use this notebook to further experiment with randomized dropout, such \n",
    "as changing the dropout parameters or altering the attack methods.\n",
    "\n",
    "Assuming the attacker has complete knowledge of this defence, they might create their adversarial examples using the drop-out network. To see how the uncertainty of the network affects the ability to create adversarial examples, take a look at \n",
    "[../chapter10/FashionMNIST_dropout_for_detection.ipynb]().\n"
   ]
  },
  {
   "cell_type": "code",
   "execution_count": null,
   "metadata": {},
   "outputs": [],
   "source": []
  }
 ],
 "metadata": {
  "kernelspec": {
   "display_name": "Python (strengthening-dnns)",
   "language": "python",
   "name": "strengthening-dnns"
  },
  "language_info": {
   "codemirror_mode": {
    "name": "ipython",
    "version": 3
   },
   "file_extension": ".py",
   "mimetype": "text/x-python",
   "name": "python",
   "nbconvert_exporter": "python",
   "pygments_lexer": "ipython3",
   "version": "3.7.3"
  }
 },
 "nbformat": 4,
 "nbformat_minor": 2
}
