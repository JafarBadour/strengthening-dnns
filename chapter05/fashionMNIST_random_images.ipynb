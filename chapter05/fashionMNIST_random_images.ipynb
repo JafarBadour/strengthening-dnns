{
 "cells": [
  {
   "cell_type": "markdown",
   "metadata": {},
   "source": [
    "> Code to accompany **Chapter 5: The Principles of Adversarial Input**"
   ]
  },
  {
   "cell_type": "markdown",
   "metadata": {},
   "source": [
    "# Testing Random Images - Fashion-MNIST\n"
   ]
  },
  {
   "cell_type": "code",
   "execution_count": 1,
   "metadata": {
    "pycharm": {
     "is_executing": false
    }
   },
   "outputs": [],
   "source": [
    "import numpy as np\n",
    "import matplotlib.pyplot as plt\n",
    "\n",
    "import tensorflow as tf\n",
    "from tensorflow import keras\n",
    "\n",
    "model = tf.keras.models.load_model('../models/FashionMNIST.h5')"
   ]
  },
  {
   "cell_type": "markdown",
   "metadata": {},
   "source": [
    "## Create a random image and get its predictions"
   ]
  },
  {
   "cell_type": "code",
   "execution_count": 30,
   "metadata": {},
   "outputs": [
    {
     "data": {
      "text/plain": [
       "<matplotlib.image.AxesImage at 0x7f0cb9366790>"
      ]
     },
     "execution_count": 30,
     "metadata": {},
     "output_type": "execute_result"
    },
    {
     "data": {
      "image/png": "[encoded data removed]",
      "text/plain": [
       "<Figure size 432x288 with 1 Axes>"
      ]
     },
     "metadata": {
      "needs_background": "light"
     },
     "output_type": "display_data"
    }
   ],
   "source": [
    "r = np.random.RandomState(2)\n",
    "image = r.randint(256, size=(28,28))\n",
    "plt.imshow(image, cmap=plt.cm.binary)\n"
   ]
  },
  {
   "cell_type": "markdown",
   "metadata": {},
   "source": [
    "## Get its predictions"
   ]
  },
  {
   "cell_type": "code",
   "execution_count": 12,
   "metadata": {},
   "outputs": [
    {
     "name": "stdout",
     "output_type": "stream",
     "text": [
      "[0. 0. 0. 0. 0. 0. 0. 0. 1. 0.]\n",
      "Classification:  Bag\n",
      "Confidence:      1.0\n"
     ]
    }
   ],
   "source": [
    "class_names = ['T-shirt/top', 'Trouser', 'Pullover', 'Dress', 'Coat', \n",
    "               'Sandal', 'Shirt', 'Sneaker', 'Bag', 'Ankle boot']\n",
    "\n",
    "predictions = model.predict(np.expand_dims(image, axis=0))[0]\n",
    "print(predictions)\n",
    "print(\"Classification: \", class_names[np.argmax(predictions)])\n",
    "print(\"Confidence:     \", predictions[np.argmax(predictions)])\n",
    "\n"
   ]
  },
  {
   "cell_type": "markdown",
   "metadata": {},
   "source": [
    "## Retrain the model with 'unknown' label\n",
    "\n",
    "Our current Fashion-MNIST model assumes the data is always sensible. Let's retrain the model with an extra class to capture random (out of distribution) data."
   ]
  },
  {
   "cell_type": "markdown",
   "metadata": {},
   "source": [
    "## Create random training and test data\n",
    "\n",
    "There are 60,000 training images - 6,000 per existing label. So we'll create an extra 6,000 random ones.\n",
    "\n",
    "There are 10,000 test images - 1,000 per existing label. So we'll create and extra 1,000 random ones."
   ]
  },
  {
   "cell_type": "code",
   "execution_count": 18,
   "metadata": {},
   "outputs": [
    {
     "name": "stdout",
     "output_type": "stream",
     "text": [
      "Downloading data from https://storage.googleapis.com/tensorflow/tf-keras-datasets/train-labels-idx1-ubyte.gz\n",
      "32768/29515 [=================================] - 0s 2us/step\n",
      "Downloading data from https://storage.googleapis.com/tensorflow/tf-keras-datasets/train-images-idx3-ubyte.gz\n",
      "26427392/26421880 [==============================] - 3s 0us/step\n",
      "Downloading data from https://storage.googleapis.com/tensorflow/tf-keras-datasets/t10k-labels-idx1-ubyte.gz\n",
      "8192/5148 [===============================================] - 0s 0us/step\n",
      "Downloading data from https://storage.googleapis.com/tensorflow/tf-keras-datasets/t10k-images-idx3-ubyte.gz\n",
      "4423680/4422102 [==============================] - 1s 0us/step\n"
     ]
    }
   ],
   "source": [
    "import numpy as np\n",
    "\n",
    "num_train = 6000\n",
    "num_test = 1000\n",
    "\n",
    "fashion_mnist = keras.datasets.fashion_mnist\n",
    "(train_images, train_labels), (test_images, test_labels) = fashion_mnist.load_data()\n",
    "\n",
    "train_images = train_images/255.0\n",
    "test_images = test_images/255.00\n",
    "\n",
    "extended_train_images = np.concatenate((train_images, np.random.rand(num_train,28,28)), axis=0)\n",
    "extended_train_labels = np.append(train_labels, np.full((num_train), 10))\n",
    "\n",
    "extended_test_images = np.concatenate((test_images, np.random.rand(num_test,28,28)), axis=0)\n",
    "extended_test_labels = np.append(test_labels, np.full((num_test), 10))\n"
   ]
  },
  {
   "cell_type": "markdown",
   "metadata": {},
   "source": [
    "## Redefine the model to cater for the extra label"
   ]
  },
  {
   "cell_type": "code",
   "execution_count": 19,
   "metadata": {},
   "outputs": [],
   "source": [
    "class_names = ['T-shirt/top', 'Trouser', 'Pullover', 'Dress', 'Coat', \n",
    "               'Sandal', 'Shirt', 'Sneaker', 'Bag', 'Ankle boot', 'Unknown']\n",
    "\n",
    "model = keras.Sequential([keras.layers.Flatten(input_shape=(28,28)),\n",
    "                          keras.layers.Dense(56, activation='relu'),\n",
    "                          keras.layers.Dense(56, activation='relu'),\n",
    "                          keras.layers.Dense(11, activation='softmax', name='predictions_layer')\n",
    "                         ])\n",
    "\n",
    "model.compile(optimizer=tf.keras.optimizers.Adam(),\n",
    "              loss='sparse_categorical_crossentropy',\n",
    "              metrics=['accuracy'])"
   ]
  },
  {
   "cell_type": "markdown",
   "metadata": {},
   "source": [
    "Note the extra dimension in the predictions_layer."
   ]
  },
  {
   "cell_type": "code",
   "execution_count": 21,
   "metadata": {},
   "outputs": [
    {
     "name": "stdout",
     "output_type": "stream",
     "text": [
      "Model: \"sequential\"\n",
      "_________________________________________________________________\n",
      "Layer (type)                 Output Shape              Param #   \n",
      "=================================================================\n",
      "flatten (Flatten)            (None, 784)               0         \n",
      "_________________________________________________________________\n",
      "dense (Dense)                (None, 56)                43960     \n",
      "_________________________________________________________________\n",
      "dense_1 (Dense)              (None, 56)                3192      \n",
      "_________________________________________________________________\n",
      "predictions_layer (Dense)    (None, 11)                627       \n",
      "=================================================================\n",
      "Total params: 47,779\n",
      "Trainable params: 47,779\n",
      "Non-trainable params: 0\n",
      "_________________________________________________________________\n"
     ]
    }
   ],
   "source": [
    "model.summary()"
   ]
  },
  {
   "cell_type": "markdown",
   "metadata": {},
   "source": [
    "## Train the model"
   ]
  },
  {
   "cell_type": "code",
   "execution_count": 22,
   "metadata": {},
   "outputs": [
    {
     "name": "stdout",
     "output_type": "stream",
     "text": [
      "Train on 66000 samples\n",
      "Epoch 1/6\n",
      "66000/66000 [==============================] - 17s 258us/sample - loss: 0.4721 - accuracy: 0.8331\n",
      "Epoch 2/6\n",
      "66000/66000 [==============================] - 18s 268us/sample - loss: 0.3458 - accuracy: 0.8748\n",
      "Epoch 3/6\n",
      "66000/66000 [==============================] - 19s 289us/sample - loss: 0.3151 - accuracy: 0.8843\n",
      "Epoch 4/6\n",
      "66000/66000 [==============================] - 24s 362us/sample - loss: 0.2940 - accuracy: 0.8912\n",
      "Epoch 5/6\n",
      "66000/66000 [==============================] - 21s 318us/sample - loss: 0.2819 - accuracy: 0.8955\n",
      "Epoch 6/6\n",
      "66000/66000 [==============================] - 24s 358us/sample - loss: 0.2642 - accuracy: 0.9014\n"
     ]
    },
    {
     "data": {
      "text/plain": [
       "<tensorflow.python.keras.callbacks.History at 0x7f0d28339d10>"
      ]
     },
     "execution_count": 22,
     "metadata": {},
     "output_type": "execute_result"
    }
   ],
   "source": [
    "model.fit(extended_train_images, extended_train_labels, epochs=6)"
   ]
  },
  {
   "cell_type": "code",
   "execution_count": 23,
   "metadata": {},
   "outputs": [
    {
     "name": "stdout",
     "output_type": "stream",
     "text": [
      "Model: \"sequential\"\n",
      "_________________________________________________________________\n",
      "Layer (type)                 Output Shape              Param #   \n",
      "=================================================================\n",
      "flatten (Flatten)            (None, 784)               0         \n",
      "_________________________________________________________________\n",
      "dense (Dense)                (None, 56)                43960     \n",
      "_________________________________________________________________\n",
      "dense_1 (Dense)              (None, 56)                3192      \n",
      "_________________________________________________________________\n",
      "predictions_layer (Dense)    (None, 11)                627       \n",
      "=================================================================\n",
      "Total params: 47,779\n",
      "Trainable params: 47,779\n",
      "Non-trainable params: 0\n",
      "_________________________________________________________________\n"
     ]
    }
   ],
   "source": [
    "model.summary()"
   ]
  },
  {
   "cell_type": "markdown",
   "metadata": {},
   "source": [
    "## Check its accuracy and show the confusion matrix"
   ]
  },
  {
   "cell_type": "code",
   "execution_count": 24,
   "metadata": {},
   "outputs": [
    {
     "name": "stdout",
     "output_type": "stream",
     "text": [
      "11000/11000 [==============================] - 2s 158us/sample - loss: 0.3211 - accuracy: 0.8855\n",
      "Model accuracy based on test data: 0.88554543\n"
     ]
    }
   ],
   "source": [
    "test_loss, test_acc = model.evaluate(extended_test_images, extended_test_labels)\n",
    "print('Model accuracy based on test data:', test_acc)"
   ]
  },
  {
   "cell_type": "code",
   "execution_count": 29,
   "metadata": {},
   "outputs": [
    {
     "data": {
      "image/png": "[encoded data removed]",
      "text/plain": [
       "<Figure size 432x288 with 2 Axes>"
      ]
     },
     "metadata": {
      "needs_background": "light"
     },
     "output_type": "display_data"
    }
   ],
   "source": [
    "import seaborn as sns\n",
    "\n",
    "\n",
    "def show_confusion_matrix(model, test_images, expected_labels, class_names):\n",
    "    predictions = model.predict(test_images)\n",
    "    num_predictions = predictions.shape[0]\n",
    "    pred_labels = np.zeros((num_predictions), dtype=int)\n",
    "    for pred, index in zip(predictions, range(num_predictions)):\n",
    "        pred_labels[index] = np.argmax(pred)\n",
    "        \n",
    "    # Create a confusion matrix on training data.\n",
    "    with tf.Graph().as_default():\n",
    "        cm = tf.math.confusion_matrix(labels=expected_labels, predictions=pred_labels, num_classes=len(class_names))\n",
    "        with tf.compat.v1.Session() as session:\n",
    "            cm_out = session.run(cm)\n",
    "\n",
    "    # Normalize the confusion matrix so that each row sums to 1.\n",
    "    cm_out = cm_out.astype(float) / cm_out.sum(axis=1)[:, np.newaxis]\n",
    "    sns.heatmap(cm_out, annot=True, xticklabels=class_names, yticklabels=class_names, cmap=\"Blues\")\n",
    "\n",
    "    plt.xlabel(\"Predicted\")\n",
    "    plt.ylabel(\"True\")\n",
    "    \n",
    "show_confusion_matrix(model, extended_test_images, extended_test_labels, class_names)"
   ]
  },
  {
   "cell_type": "markdown",
   "metadata": {
    "pycharm": {
     "name": "#%% md\n"
    }
   },
   "source": [
    "# lets try the random photo again ... will it give us bag?"
   ]
  },
  {
   "cell_type": "code",
   "execution_count": null,
   "outputs": [],
   "source": [
    "class_names = ['T-shirt/top', 'Trouser', 'Pullover', 'Dress', 'Coat', \n",
    "               'Sandal', 'Shirt', 'Sneaker', 'Bag', 'Ankle boot','Unknown']\n",
    "\n",
    "predictions = model.predict(np.expand_dims(image, axis=0))[0]\n",
    "print(predictions)\n",
    "print(\"Classification: \", class_names[np.argmax(predictions)])\n",
    "print(\"Confidence:     \", predictions[np.argmax(predictions)])\n",
    "\n"
   ],
   "metadata": {
    "collapsed": false,
    "pycharm": {
     "name": "#%%\n"
    }
   }
  },
  {
   "cell_type": "code",
   "execution_count": 32,
   "metadata": {},
   "outputs": [
    {
     "name": "stdout",
     "output_type": "stream",
     "text": [
      "[0. 0. 0. 0. 0. 0. 0. 0. 0. 0. 1.]\n",
      "Classification:  Unknown\n",
      "Confidence:      1.0\n"
     ]
    }
   ],
   "source": [
    "class_names = ['T-shirt/top', 'Trouser', 'Pullover', 'Dress', 'Coat', \n",
    "               'Sandal', 'Shirt', 'Sneaker', 'Bag', 'Ankle boot','Unknown']\n",
    "\n",
    "predictions = model.predict(np.expand_dims(image, axis=0))[0]\n",
    "print(predictions)\n",
    "print(\"Classification: \", class_names[np.argmax(predictions)])\n",
    "print(\"Confidence:     \", predictions[np.argmax(predictions)])\n",
    "\n"
   ]
  }
 ],
 "metadata": {
  "kernelspec": {
   "display_name": "Python 3",
   "language": "python",
   "name": "python3"
  },
  "language_info": {
   "codemirror_mode": {
    "name": "ipython",
    "version": 3
   },
   "file_extension": ".py",
   "mimetype": "text/x-python",
   "name": "python",
   "nbconvert_exporter": "python",
   "pygments_lexer": "ipython3",
   "version": "3.7.4"
  },
  "pycharm": {
   "stem_cell": {
    "cell_type": "raw",
    "source": [],
    "metadata": {
     "collapsed": false
    }
   }
  }
 },
 "nbformat": 4,
 "nbformat_minor": 2
}