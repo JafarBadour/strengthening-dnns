{
 "cells": [
  {
   "cell_type": "markdown",
   "metadata": {},
   "source": [
    "> Code to accompany **Chapter 5: The Principles of Adversarial Input**"
   ]
  },
  {
   "cell_type": "markdown",
   "metadata": {},
   "source": [
    "# Testing Random Images - Fashion-MNIST\n"
   ]
  },
  {
   "cell_type": "code",
   "execution_count": 1,
   "metadata": {},
   "outputs": [
    {
     "name": "stdout",
     "output_type": "stream",
     "text": [
      "WARNING:tensorflow:From C:\\Users\\katyw\\Anaconda3\\envs\\strengthening-dnns\\lib\\site-packages\\tensorflow\\python\\ops\\resource_variable_ops.py:435: colocate_with (from tensorflow.python.framework.ops) is deprecated and will be removed in a future version.\n",
      "Instructions for updating:\n",
      "Colocations handled automatically by placer.\n"
     ]
    }
   ],
   "source": [
    "import numpy as np\n",
    "import matplotlib.pyplot as plt\n",
    "\n",
    "import tensorflow as tf\n",
    "from tensorflow import keras\n",
    "model = tf.keras.models.load_model('../models/fashion-MNIST.h5')"
   ]
  },
  {
   "cell_type": "markdown",
   "metadata": {},
   "source": [
    "## Create a random image and get its predictions"
   ]
  },
  {
   "cell_type": "code",
   "execution_count": 2,
   "metadata": {},
   "outputs": [
    {
     "data": {
      "text/plain": [
       "<matplotlib.image.AxesImage at 0x16308a9aa20>"
      ]
     },
     "execution_count": 2,
     "metadata": {},
     "output_type": "execute_result"
    },
    {
     "data": {
      "image/png": "[encoded data removed]",
      "text/plain": [
       "<Figure size 432x288 with 1 Axes>"
      ]
     },
     "metadata": {
      "needs_background": "light"
     },
     "output_type": "display_data"
    }
   ],
   "source": [
    "r = np.random.RandomState(2)\n",
    "image = r.randint(256, size=(28,28))\n",
    "plt.imshow(image, cmap=plt.cm.binary)"
   ]
  },
  {
   "cell_type": "markdown",
   "metadata": {},
   "source": [
    "## Get its predictions"
   ]
  },
  {
   "cell_type": "code",
   "execution_count": 3,
   "metadata": {},
   "outputs": [
    {
     "name": "stdout",
     "output_type": "stream",
     "text": [
      "[0. 0. 0. 0. 0. 0. 0. 0. 1. 0.]\n",
      "Classification:  Bag\n",
      "Confidence:      1.0\n"
     ]
    }
   ],
   "source": [
    "class_names = ['T-shirt/top', 'Trouser', 'Pullover', 'Dress', 'Coat', \n",
    "               'Sandal', 'Shirt', 'Sneaker', 'Bag', 'Ankle boot']\n",
    "\n",
    "predictions = model.predict(np.expand_dims(image, axis=0))[0]\n",
    "print(predictions)\n",
    "print(\"Classification: \", class_names[np.argmax(predictions)])\n",
    "print(\"Confidence:     \", predictions[np.argmax(predictions)])\n",
    "\n"
   ]
  },
  {
   "cell_type": "markdown",
   "metadata": {},
   "source": [
    "## Retrain the model with 'unknown' label\n",
    "\n",
    "Our current Fashion-MNIST model assumes the data is always sensible. Let's retrain the model with an extra class to capture random (out of distribution) data."
   ]
  },
  {
   "cell_type": "markdown",
   "metadata": {},
   "source": [
    "## Create random training and test data\n",
    "\n",
    "There are 60,000 training images - 6,000 per existing label. So we'll create an extra 6,000 random ones.\n",
    "\n",
    "There are 10,000 test images - 1,000 per existing label. So we'll create and extra 1,000 random ones."
   ]
  },
  {
   "cell_type": "code",
   "execution_count": 4,
   "metadata": {},
   "outputs": [],
   "source": [
    "import numpy as np\n",
    "\n",
    "num_train = 6000\n",
    "num_test = 1000\n",
    "\n",
    "fashion_mnist = keras.datasets.fashion_mnist\n",
    "(train_images, train_labels), (test_images, test_labels) = fashion_mnist.load_data()\n",
    "\n",
    "train_images = train_images/255.0\n",
    "test_images = test_images/255.00\n",
    "\n",
    "extended_train_images = np.concatenate((train_images, np.random.rand(num_train,28,28)), axis=0)\n",
    "extended_train_labels = np.append(train_labels, np.full((num_train), 10))\n",
    "\n",
    "extended_test_images = np.concatenate((test_images, np.random.rand(num_test,28,28)), axis=0)\n",
    "extended_test_labels = np.append(test_labels, np.full((num_test), 10))\n"
   ]
  },
  {
   "cell_type": "markdown",
   "metadata": {},
   "source": [
    "## Redefine the model to cater for the extra label"
   ]
  },
  {
   "cell_type": "code",
   "execution_count": 5,
   "metadata": {},
   "outputs": [],
   "source": [
    "class_names = ['T-shirt/top', 'Trouser', 'Pullover', 'Dress', 'Coat', \n",
    "               'Sandal', 'Shirt', 'Sneaker', 'Bag', 'Ankle boot', 'Unknown']\n",
    "\n",
    "model = keras.Sequential([keras.layers.Flatten(input_shape=(28,28)),\n",
    "                          keras.layers.Dense(56, activation='relu'),\n",
    "                          keras.layers.Dense(56, activation='relu'),\n",
    "                          keras.layers.Dense(11, activation='softmax', name='predictions_layer')\n",
    "                         ])\n",
    "\n",
    "model.compile(optimizer=tf.keras.optimizers.Adam(),\n",
    "              loss='sparse_categorical_crossentropy',\n",
    "              metrics=['accuracy'])"
   ]
  },
  {
   "cell_type": "markdown",
   "metadata": {},
   "source": [
    "Note the extra dimension in the predictions_layer."
   ]
  },
  {
   "cell_type": "code",
   "execution_count": 6,
   "metadata": {},
   "outputs": [
    {
     "name": "stdout",
     "output_type": "stream",
     "text": [
      "_________________________________________________________________\n",
      "Layer (type)                 Output Shape              Param #   \n",
      "=================================================================\n",
      "flatten (Flatten)            (None, 784)               0         \n",
      "_________________________________________________________________\n",
      "dense (Dense)                (None, 56)                43960     \n",
      "_________________________________________________________________\n",
      "dense_1 (Dense)              (None, 56)                3192      \n",
      "_________________________________________________________________\n",
      "predictions_layer (Dense)    (None, 11)                627       \n",
      "=================================================================\n",
      "Total params: 47,779\n",
      "Trainable params: 47,779\n",
      "Non-trainable params: 0\n",
      "_________________________________________________________________\n"
     ]
    }
   ],
   "source": [
    "model.summary()"
   ]
  },
  {
   "cell_type": "markdown",
   "metadata": {},
   "source": [
    "## Train the model"
   ]
  },
  {
   "cell_type": "code",
   "execution_count": 7,
   "metadata": {},
   "outputs": [
    {
     "name": "stdout",
     "output_type": "stream",
     "text": [
      "Epoch 1/6\n",
      "66000/66000 [==============================] - 7s 109us/sample - loss: 0.4711 - acc: 0.8340\n",
      "Epoch 2/6\n",
      "66000/66000 [==============================] - 8s 126us/sample - loss: 0.3454 - acc: 0.8744\n",
      "Epoch 3/6\n",
      "66000/66000 [==============================] - 8s 125us/sample - loss: 0.3128 - acc: 0.8853\n",
      "Epoch 4/6\n",
      "66000/66000 [==============================] - 7s 108us/sample - loss: 0.2934 - acc: 0.8922\n",
      "Epoch 5/6\n",
      "66000/66000 [==============================] - 7s 109us/sample - loss: 0.2770 - acc: 0.8972\n",
      "Epoch 6/6\n",
      "66000/66000 [==============================] - 5s 70us/sample - loss: 0.2650 - acc: 0.9005\n"
     ]
    },
    {
     "data": {
      "text/plain": [
       "<tensorflow.python.keras.callbacks.History at 0x1630c0f9be0>"
      ]
     },
     "execution_count": 7,
     "metadata": {},
     "output_type": "execute_result"
    }
   ],
   "source": [
    "model.fit(extended_train_images, extended_train_labels, epochs=6)"
   ]
  },
  {
   "cell_type": "markdown",
   "metadata": {},
   "source": [
    "## Check its accuracy and show the confusion matrix"
   ]
  },
  {
   "cell_type": "code",
   "execution_count": 8,
   "metadata": {},
   "outputs": [
    {
     "name": "stdout",
     "output_type": "stream",
     "text": [
      "11000/11000 [==============================] - 0s 41us/sample - loss: 0.3299 - acc: 0.8805\n",
      "Model accuracy based on test data: 0.88054544\n"
     ]
    }
   ],
   "source": [
    "test_loss, test_acc = model.evaluate(extended_test_images, extended_test_labels)\n",
    "print('Model accuracy based on test data:', test_acc)"
   ]
  },
  {
   "cell_type": "code",
   "execution_count": 9,
   "metadata": {},
   "outputs": [
    {
     "name": "stdout",
     "output_type": "stream",
     "text": [
      "WARNING:tensorflow:From C:\\Users\\katyw\\Anaconda3\\envs\\strengthening-dnns\\lib\\site-packages\\tensorflow\\python\\ops\\confusion_matrix.py:193: to_int64 (from tensorflow.python.ops.math_ops) is deprecated and will be removed in a future version.\n",
      "Instructions for updating:\n",
      "Use tf.cast instead.\n",
      "WARNING:tensorflow:From C:\\Users\\katyw\\Anaconda3\\envs\\strengthening-dnns\\lib\\site-packages\\tensorflow\\python\\ops\\confusion_matrix.py:194: to_int32 (from tensorflow.python.ops.math_ops) is deprecated and will be removed in a future version.\n",
      "Instructions for updating:\n",
      "Use tf.cast instead.\n"
     ]
    },
    {
     "data": {
      "image/png": "[encoded data removed]",
      "text/plain": [
       "<Figure size 432x288 with 2 Axes>"
      ]
     },
     "metadata": {
      "needs_background": "light"
     },
     "output_type": "display_data"
    }
   ],
   "source": [
    "import seaborn as sns\n",
    "\n",
    "def show_confusion_matrix(model, test_images, expected_labels, class_names):\n",
    "    predictions = model.predict(test_images)\n",
    "    num_predictions = predictions.shape[0]\n",
    "    pred_labels = np.zeros((num_predictions), dtype=int)\n",
    "    for pred, index in zip(predictions, range(num_predictions)):\n",
    "        pred_labels[index] = np.argmax(pred)\n",
    "        \n",
    "    # Create a confusion matrix on training data.\n",
    "    with tf.Graph().as_default():\n",
    "        cm = tf.confusion_matrix(labels=expected_labels, predictions=pred_labels, num_classes=len(class_names))\n",
    "        with tf.Session() as session:\n",
    "            cm_out = session.run(cm)\n",
    "\n",
    "    # Normalize the confusion matrix so that each row sums to 1.\n",
    "    cm_out = cm_out.astype(float) / cm_out.sum(axis=1)[:, np.newaxis]\n",
    "    sns.heatmap(cm_out, annot=True, xticklabels=class_names, yticklabels=class_names)\n",
    "    plt.xlabel(\"Predicted\")\n",
    "    plt.ylabel(\"True\")\n",
    "    \n",
    "show_confusion_matrix(model, extended_test_images, extended_test_labels, class_names)"
   ]
  },
  {
   "cell_type": "code",
   "execution_count": null,
   "metadata": {},
   "outputs": [],
   "source": []
  }
 ],
 "metadata": {
  "kernelspec": {
   "display_name": "Python (strengthening-dnns)",
   "language": "python",
   "name": "strengthening-dnns"
  },
  "language_info": {
   "codemirror_mode": {
    "name": "ipython",
    "version": 3
   },
   "file_extension": ".py",
   "mimetype": "text/x-python",
   "name": "python",
   "nbconvert_exporter": "python",
   "pygments_lexer": "ipython3",
   "version": "3.7.3"
  }
 },
 "nbformat": 4,
 "nbformat_minor": 2
}
