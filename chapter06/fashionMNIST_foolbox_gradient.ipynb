{
 "cells": [
  {
   "cell_type": "markdown",
   "metadata": {},
   "source": [
    "> Code to accompany **Chapter 6: Methods for Generating Adversarial Perturbation**"
   ]
  },
  {
   "cell_type": "markdown",
   "metadata": {},
   "source": [
    "# Fashion-MNIST Foolbox Gradient Attack\n",
    "\n",
    "The Fast Gradient Sign Method (FSGM) calculates the direction in the input space which, at the location of the image, appears to be the fastest route to a misclassification. This direction is calculated using gradient descent and a cost function similar in principle to that for training a network.\n",
    "\n",
    "The method was first proposaed by [Ian J. Goodfellow et al. in “Explaining and Harnessing Adversarial Examples,” (2015)](https://arxiv.org/abs/1412.6572).\n",
    "\n",
    "This method was never intended to be a particularly effective way of creating adversarial examples. It does demonstrate an important feature of many deep networks, however.\n",
    "\n",
    "The whole premise of the success of the FGSM assumes that the steepness of the slope in a particular direction will be maintained. Put in mathematical terminology, the function that the model represents exhibits *linear* behaviour. With linear models, it’s possible to vastly approximate the mathematics for generating adversarial perturbation by simply looking at local gradients. \n",
    "\n",
    "For a more detailed explanation of the FGSM, see chapter 6."
   ]
  },
  {
   "cell_type": "markdown",
   "metadata": {},
   "source": [
    "To begin, we import the required libraries."
   ]
  },
  {
   "cell_type": "code",
   "execution_count": 1,
   "metadata": {},
   "outputs": [],
   "source": [
    "import numpy as np\n",
    "import matplotlib.pyplot as plt\n",
    "\n",
    "import tensorflow as tf\n",
    "from tensorflow import keras"
   ]
  },
  {
   "cell_type": "markdown",
   "metadata": {},
   "source": [
    "## Get the previously saved Fashion-MNIST classifier model.\n",
    "\n",
    "\n",
    "Firstly, get the model trained in chapter 3.\n",
    "If you would like to see how this was trained, take a look at [the Jupyter notebook on GitHub](https://github.com/katywarr/strengthening-dnns/blob/master/chapter03/fashionMNIST_classifier.ipynb) or [train your own model by running it here](../chapter3/fashionMNIST_classifier.ipynb).\n"
   ]
  },
  {
   "cell_type": "code",
   "execution_count": 2,
   "metadata": {},
   "outputs": [
    {
     "name": "stdout",
     "output_type": "stream",
     "text": [
      "WARNING:tensorflow:From C:\\Users\\katyw\\Anaconda3\\envs\\strengthening-dnns\\lib\\site-packages\\tensorflow\\python\\ops\\resource_variable_ops.py:435: colocate_with (from tensorflow.python.framework.ops) is deprecated and will be removed in a future version.\n",
      "Instructions for updating:\n",
      "Colocations handled automatically by placer.\n"
     ]
    }
   ],
   "source": [
    "model = tf.keras.models.load_model(\"../models/fashionMNIST.h5\")"
   ]
  },
  {
   "cell_type": "markdown",
   "metadata": {},
   "source": [
    "Run the test images through it."
   ]
  },
  {
   "cell_type": "code",
   "execution_count": 3,
   "metadata": {},
   "outputs": [],
   "source": [
    "fashion_mnist = keras.datasets.fashion_mnist\n",
    "_, (test_images, test_labels) = fashion_mnist.load_data()\n",
    "test_images = test_images/255.0\n",
    "\n",
    "predictions = model.predict(test_images)"
   ]
  },
  {
   "cell_type": "markdown",
   "metadata": {},
   "source": [
    "## Select the original (non-adversarial) image\n",
    "\n",
    "Select an original (nonadversarial image) and display it along with its prediction:\n"
   ]
  },
  {
   "cell_type": "code",
   "execution_count": 4,
   "metadata": {},
   "outputs": [
    {
     "name": "stdout",
     "output_type": "stream",
     "text": [
      "Prediction for original image: 6 Shirt\n"
     ]
    },
    {
     "data": {
      "text/plain": [
       "<matplotlib.colorbar.Colorbar at 0x252d36f0630>"
      ]
     },
     "execution_count": 4,
     "metadata": {},
     "output_type": "execute_result"
    },
    {
     "data": {
      "image/png": "[encoded data removed]",
      "text/plain": [
       "<Figure size 432x288 with 2 Axes>"
      ]
     },
     "metadata": {
      "needs_background": "light"
     },
     "output_type": "display_data"
    }
   ],
   "source": [
    "image_num = 7\n",
    "\n",
    "class_names = ['T-shirt/top', 'Trouser', 'Pullover', 'Dress', 'Coat', \n",
    "               'Sandal', 'Shirt', 'Sneaker', 'Bag', 'Ankle boot']\n",
    "\n",
    "x = test_images[image_num]\n",
    "y = np.argmax(predictions[image_num])\n",
    "y_name = class_names[y]\n",
    "\n",
    "print(\"Prediction for original image:\", y, y_name) \n",
    "\n",
    "plt.imshow(x, cmap=plt.cm.binary)\n",
    "plt.colorbar()\n"
   ]
  },
  {
   "cell_type": "markdown",
   "metadata": {},
   "source": [
    "## Get a Foolbox model from our Keras one\n",
    "\n",
    "Create a Foolbox model from our Keras one. "
   ]
  },
  {
   "cell_type": "code",
   "execution_count": 5,
   "metadata": {},
   "outputs": [],
   "source": [
    "import foolbox\n",
    "from foolbox.models import KerasModel\n",
    "fmodel = foolbox.models.TensorFlowModel.from_keras(model, bounds=(0, 255))"
   ]
  },
  {
   "cell_type": "markdown",
   "metadata": {},
   "source": [
    "## Define the attack specificity\n",
    "\n",
    "The [foolbox.criteria](https://foolbox.readthedocs.io/en/latest/modules/criteria.html) defines the attack specificity (targeted versus untargeted) and the probability threshold required. In this case, we will do a simple misclassification.\n",
    "\n",
    "The perturbation distance will be optimised according to the $L^{\\infty}$-norm.\n",
    " "
   ]
  },
  {
   "cell_type": "code",
   "execution_count": 6,
   "metadata": {},
   "outputs": [],
   "source": [
    "attack_criterion = foolbox.criteria.Misclassification()\n",
    "distance = foolbox.distances.Linfinity"
   ]
  },
  {
   "cell_type": "markdown",
   "metadata": {},
   "source": [
    "## Define the attack \n",
    "\n",
    "This is done by passing the foolbox `model`, the attack `criterion` and the `distance` measurement as parameters to create an instance of `foolbox.attacks.GradientSignAttack`.\n",
    "\n",
    "See [the Foolbox docs here](https://foolbox.readthedocs.io/en/latest/modules/attacks/gradient.html#foolbox.attacks.GradientSignAttack).\n"
   ]
  },
  {
   "cell_type": "code",
   "execution_count": 7,
   "metadata": {},
   "outputs": [],
   "source": [
    "attack = foolbox.attacks.GradientSignAttack(fmodel, criterion=attack_criterion, distance=distance)"
   ]
  },
  {
   "cell_type": "markdown",
   "metadata": {},
   "source": [
    "## Run the attack"
   ]
  },
  {
   "cell_type": "code",
   "execution_count": 8,
   "metadata": {},
   "outputs": [],
   "source": [
    "x_adv = attack(input_or_adv = x, label = y, unpack = False)"
   ]
  },
  {
   "cell_type": "markdown",
   "metadata": {},
   "source": [
    "If the attack was successful, the images should be different. Take a look to see whether this is the case."
   ]
  },
  {
   "cell_type": "code",
   "execution_count": 11,
   "metadata": {},
   "outputs": [
    {
     "name": "stdout",
     "output_type": "stream",
     "text": [
      "normalized Linf distance = 1.50e-04\n"
     ]
    },
    {
     "data": {
      "image/png": "[encoded data removed]",
      "text/plain": [
       "<Figure size 432x288 with 3 Axes>"
      ]
     },
     "metadata": {
      "needs_background": "light"
     },
     "output_type": "display_data"
    }
   ],
   "source": [
    "if ((x_adv is None) or (np.array_equal(x, x_adv.image))):\n",
    "    print(\"No adversarial example was found\")\n",
    "else:   \n",
    "    preds = model.predict(np.array([x_adv.image]))\n",
    "\n",
    "    plt.figure()\n",
    "\n",
    "    # Plot the original image\n",
    "    plt.subplot(1, 3, 1)\n",
    "    plt.title(y_name)\n",
    "    plt.imshow(x, cmap=plt.cm.binary)\n",
    "    plt.axis('off')\n",
    "\n",
    "    # Plot the adversarial image\n",
    "    plt.subplot(1, 3, 2)\n",
    "    plt.title(class_names[np.argmax(preds[0])])\n",
    "    plt.imshow(x_adv.image, cmap=plt.cm.binary)\n",
    "    plt.axis('off')\n",
    "\n",
    "    # Plot the difference\n",
    "    plt.subplot(1, 3, 3)\n",
    "    plt.title('Difference')\n",
    "    difference = x_adv.image - x\n",
    "    plt.imshow(difference, vmin=0, vmax=1, cmap=plt.cm.binary)\n",
    "    plt.axis('off')\n",
    "\n",
    "    print(x_adv.distance)\n",
    "\n",
    "    plt.show()\n"
   ]
  },
  {
   "cell_type": "markdown",
   "metadata": {},
   "source": [
    "## Where next?\n",
    "\n",
    "Take a look at at other attacks. For example:\n",
    "\n",
    "* The Foolbox boundary attack (black-box). Here's the [Jupyter notebook on GitHub](https://github.com/katywarr/strengthening-dnns/blob/master/chapter06/fashionMNIST_foolbox_boundary.ipynb) and here's the [relative path to the Jypyter notebook](./fashionMNIST_foolbox_boundary.ipynb) if you want to run it.\n",
    "\n",
    "* The Foolbox saliency attack using the ResNet50 classifier. Here's the [Jupyter notebook on GitHub](https://github.com/katywarr/strengthening-dnns/blob/master/chapter06/resnet50_naive.ipynb) and here's the [relative path to the Jypyter notebook](./resnet50_naive.ipynb) if you want to run it.\n",
    "\n",
    "There are many more examples of adversarial attacks online. See [RESOURCES.md](https://github.com/katywarr/strengthening-dnns/blob/master/RESOURCES.md) for links to collaborative projects for creating and defending against attacks."
   ]
  }
 ],
 "metadata": {
  "kernelspec": {
   "display_name": "Python (strengthening-dnns)",
   "language": "python",
   "name": "strengthening-dnns"
  },
  "language_info": {
   "codemirror_mode": {
    "name": "ipython",
    "version": 3
   },
   "file_extension": ".py",
   "mimetype": "text/x-python",
   "name": "python",
   "nbconvert_exporter": "python",
   "pygments_lexer": "ipython3",
   "version": "3.7.3"
  }
 },
 "nbformat": 4,
 "nbformat_minor": 2
}
