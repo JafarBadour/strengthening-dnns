{
 "cells": [
  {
   "cell_type": "markdown",
   "metadata": {},
   "source": [
    "> Code to accompany **Chapter 6: Methods for Generating Adversarial Perturbation**"
   ]
  },
  {
   "cell_type": "markdown",
   "metadata": {},
   "source": [
    "# ResNet50 Foolbox Saliency Attack"
   ]
  },
  {
   "cell_type": "markdown",
   "metadata": {},
   "source": [
    "## Get a Foolbox model from our Keras one\n",
    "\n",
    "Create a Foolbox model from our Keras one. "
   ]
  },
  {
   "cell_type": "code",
   "execution_count": 1,
   "metadata": {},
   "outputs": [
    {
     "name": "stderr",
     "output_type": "stream",
     "text": [
      "Using TensorFlow backend.\n"
     ]
    },
    {
     "name": "stdout",
     "output_type": "stream",
     "text": [
      "WARNING:tensorflow:From C:\\Users\\katyw\\Anaconda3\\envs\\strengthening-dnns\\lib\\site-packages\\tensorflow\\python\\framework\\op_def_library.py:263: colocate_with (from tensorflow.python.framework.ops) is deprecated and will be removed in a future version.\n",
      "Instructions for updating:\n",
      "Colocations handled automatically by placer.\n"
     ]
    }
   ],
   "source": [
    "# Import the model\n",
    "import tensorflow as tf\n",
    "from tensorflow import keras\n",
    "from keras.applications.resnet50 import ResNet50\n",
    "import numpy as np\n",
    "import matplotlib.pyplot as plt\n",
    "%matplotlib inline\n",
    "\n",
    "# Import helper function\n",
    "import sys\n",
    "sys.path.append('..')\n",
    "from strengtheningdnns.image_utils import image_from_file\n",
    "\n",
    "# Get the ResNet50 network using the imagenet trained weights\n",
    "model = ResNet50(weights='imagenet', include_top=True)\n",
    "#keras.backend.set_learning_phase(0)"
   ]
  },
  {
   "cell_type": "markdown",
   "metadata": {},
   "source": [
    "## Select our non adversarial image"
   ]
  },
  {
   "cell_type": "code",
   "execution_count": 2,
   "metadata": {},
   "outputs": [
    {
     "name": "stdout",
     "output_type": "stream",
     "text": [
      "(?, ?, ?)\n",
      "Re-scaling image to  [224, 224]\n"
     ]
    }
   ],
   "source": [
    "original_image_path = '../images/koala.jpg'\n",
    "x = image_from_file(original_image_path, [224,224])\n"
   ]
  },
  {
   "cell_type": "code",
   "execution_count": 19,
   "metadata": {},
   "outputs": [
    {
     "name": "stdout",
     "output_type": "stream",
     "text": [
      "Prediction for image:  koala\n"
     ]
    }
   ],
   "source": [
    "from keras.applications.resnet50 import preprocess_input\n",
    "from keras.applications.resnet50 import decode_predictions\n",
    "\n",
    "x_preds = model.predict(np.expand_dims(preprocess_input(x), 0))\n",
    "y = np.argmax(x_preds)\n",
    "y_name = decode_predictions(x_preds, top=1)[0][0][1]\n",
    "print(\"Prediction for image: \", y_name)"
   ]
  },
  {
   "cell_type": "markdown",
   "metadata": {},
   "source": [
    "# ResNet50 Pre-processing\n",
    "\n",
    "The Foolbox model is able to perform pre-processing on the image to make it suitable to ResNet50. This involves normalising the data around the ImageNet mean RGB values on which the classifier was initially trained. The ```preprocessing``` variable defines the means for this pre-processing step. The equivalent normalisation is done in ```keras.applications.resnet50.preprocess_input``` - the function that we have called previously to prepare input for ResNet50. To understand this pre-processing in greater detail and try it for yourself, take a look at the Jupyter notebook: https://github.com/katywarr/strengthening-dnns/blob/master/chapter4/resnet50_preprocessing.ipynb."
   ]
  },
  {
   "cell_type": "code",
   "execution_count": 8,
   "metadata": {},
   "outputs": [],
   "source": [
    "preprocessing = (np.array([103.939, 116.779, 123.68]), 1)"
   ]
  },
  {
   "cell_type": "markdown",
   "metadata": {},
   "source": [
    "ResNet50 was trained on images with the channels ordered BGR, rather than RGB. This step switches the channels of the image data to BGR. This is another step in ```keras.applications.resnet50.preprocess_input.```"
   ]
  },
  {
   "cell_type": "code",
   "execution_count": 5,
   "metadata": {},
   "outputs": [],
   "source": [
    "x_bgr = x[..., ::-1]"
   ]
  },
  {
   "cell_type": "markdown",
   "metadata": {},
   "source": [
    "## Import the model\n",
    "Import the model passing the information required for pre-processing."
   ]
  },
  {
   "cell_type": "code",
   "execution_count": 9,
   "metadata": {
    "scrolled": true
   },
   "outputs": [
    {
     "name": "stdout",
     "output_type": "stream",
     "text": [
      "WARNING:tensorflow:From C:\\Users\\katyw\\Anaconda3\\envs\\strengthening-dnns\\lib\\site-packages\\tensorflow\\python\\ops\\math_ops.py:3066: to_int32 (from tensorflow.python.ops.math_ops) is deprecated and will be removed in a future version.\n",
      "Instructions for updating:\n",
      "Use tf.cast instead.\n"
     ]
    }
   ],
   "source": [
    "import foolbox\n",
    "\n",
    "# Temporary using Keras Model to get around bug that looks like: \n",
    "# https://github.com/bethgelab/foolbox/issues/164 \n",
    "fmodel = foolbox.models.KerasModel(model, bounds=(0, 255), \n",
    "                                   preprocessing=preprocessing)\n",
    "#fmodel = foolbox.models.TensorFlowModel.from_keras(model, \n",
    "#                                                   bounds=(0, 255), \n",
    "#                                                   preprocessing=preprocessing)"
   ]
  },
  {
   "cell_type": "markdown",
   "metadata": {},
   "source": [
    "## Define the attack specificity\n",
    "\n",
    "[foolbox.criteria](https://foolbox.readthedocs.io/en/latest/modules/criteria.html) defines the attach specificity (targeted versus untargeted) and the probability threshold required. \n",
    " "
   ]
  },
  {
   "cell_type": "code",
   "execution_count": 10,
   "metadata": {},
   "outputs": [],
   "source": [
    "attack_criterion = foolbox.criteria.Misclassification()"
   ]
  },
  {
   "cell_type": "markdown",
   "metadata": {},
   "source": [
    "## Define the attack method"
   ]
  },
  {
   "cell_type": "code",
   "execution_count": 11,
   "metadata": {},
   "outputs": [],
   "source": [
    "attack = foolbox.attacks.SaliencyMapAttack(fmodel, criterion=attack_criterion)"
   ]
  },
  {
   "cell_type": "markdown",
   "metadata": {},
   "source": [
    "## Run the attack"
   ]
  },
  {
   "cell_type": "code",
   "execution_count": 12,
   "metadata": {},
   "outputs": [],
   "source": [
    "adversarial = attack(input_or_adv = x_bgr, label = y, unpack = False)"
   ]
  },
  {
   "cell_type": "code",
   "execution_count": 17,
   "metadata": {},
   "outputs": [
    {
     "name": "stdout",
     "output_type": "stream",
     "text": [
      "Prediction for image:  weasel\n",
      "None\n"
     ]
    }
   ],
   "source": [
    "x_adv = adversarial.image[..., ::-1]\n",
    "\n",
    "x_adv_preds = model.predict(preprocess_input(x_adv[np.newaxis].copy()))\n",
    "y_adv = np.argmax(x_adv_preds)\n",
    "y_adv_name = decode_predictions(x_adv_preds, top=1)[0][0][1]\n",
    "print(print(\"Prediction for image: \", y_adv_name))"
   ]
  },
  {
   "cell_type": "code",
   "execution_count": 28,
   "metadata": {},
   "outputs": [
    {
     "data": {
      "image/png": "[encoded data removed]",
      "text/plain": [
       "<Figure size 432x288 with 3 Axes>"
      ]
     },
     "metadata": {
      "needs_background": "light"
     },
     "output_type": "display_data"
    }
   ],
   "source": [
    "import matplotlib.pyplot as plt\n",
    "\n",
    "plt.figure()\n",
    "\n",
    "# Plot the original image\n",
    "plt.subplot(1, 3, 1)\n",
    "plt.title(y_name)\n",
    "plt.imshow(x)  \n",
    "plt.axis('off')\n",
    "\n",
    "# Plot the adversarial image\n",
    "plt.subplot(1, 3, 2)\n",
    "plt.title(y_adv_name)\n",
    "plt.imshow(x_adv)  \n",
    "plt.axis('off')\n",
    "\n",
    "# Plot the difference\n",
    "plt.subplot(1, 3, 3)\n",
    "plt.title('Difference')\n",
    "difference = x_adv - x\n",
    "# Set differences that haven't changed to 255 so they don't show on the plot \n",
    "difference[difference == 0] = 255 \n",
    "plt.imshow(abs(difference))\n",
    "plt.xticks([])\n",
    "plt.yticks([])\n",
    "\n",
    "plt.show()\n",
    "#plt.savefig(\"ch6_code_foolbox_saliency.pdf\", format='pdf', dpi=1000)"
   ]
  },
  {
   "cell_type": "code",
   "execution_count": null,
   "metadata": {},
   "outputs": [],
   "source": []
  }
 ],
 "metadata": {
  "kernelspec": {
   "display_name": "Python (strengthening-dnns)",
   "language": "python",
   "name": "strengthening-dnns"
  },
  "language_info": {
   "codemirror_mode": {
    "name": "ipython",
    "version": 3
   },
   "file_extension": ".py",
   "mimetype": "text/x-python",
   "name": "python",
   "nbconvert_exporter": "python",
   "pygments_lexer": "ipython3",
   "version": "3.7.3"
  }
 },
 "nbformat": 4,
 "nbformat_minor": 2
}
