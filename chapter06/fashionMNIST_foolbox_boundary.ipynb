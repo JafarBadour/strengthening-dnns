{
 "cells": [
  {
   "cell_type": "markdown",
   "metadata": {},
   "source": [
    "> Code to accompany **Chapter 6: Methods for Generating Adversarial Perturbation**"
   ]
  },
  {
   "cell_type": "markdown",
   "metadata": {},
   "source": [
    "# Fashion-MNIST Foolbox Boundary Attack"
   ]
  },
  {
   "cell_type": "markdown",
   "metadata": {},
   "source": [
    "## Load in the model and its predictions\n"
   ]
  },
  {
   "cell_type": "code",
   "execution_count": 1,
   "metadata": {},
   "outputs": [
    {
     "name": "stdout",
     "output_type": "stream",
     "text": [
      "WARNING:tensorflow:From C:\\Users\\katyw\\Anaconda3\\envs\\strengthening-dnns\\lib\\site-packages\\tensorflow\\python\\ops\\resource_variable_ops.py:435: colocate_with (from tensorflow.python.framework.ops) is deprecated and will be removed in a future version.\n",
      "Instructions for updating:\n",
      "Colocations handled automatically by placer.\n"
     ]
    }
   ],
   "source": [
    "import numpy as np\n",
    "import matplotlib.pyplot as plt\n",
    "\n",
    "import tensorflow as tf\n",
    "from tensorflow import keras\n",
    "model = tf.keras.models.load_model('../models/fashion-MNIST.h5')"
   ]
  },
  {
   "cell_type": "code",
   "execution_count": 2,
   "metadata": {},
   "outputs": [],
   "source": [
    "fashion_mnist = keras.datasets.fashion_mnist\n",
    "(train_images, train_labels), (test_images, test_labels) = fashion_mnist.load_data()\n",
    "test_images = test_images/255.0\n",
    "class_names = ['T-shirt/top', 'Trouser', 'Pullover', 'Dress', 'Coat', \n",
    "               'Sandal', 'Shirt', 'Sneaker', 'Bag', 'Ankle boot']\n",
    "\n",
    "model = tf.keras.models.load_model('../models/fashion-MNIST.h5')\n",
    "predictions = model.predict(test_images)"
   ]
  },
  {
   "cell_type": "markdown",
   "metadata": {},
   "source": [
    "## Select the original (non-adversarial) image\n"
   ]
  },
  {
   "cell_type": "code",
   "execution_count": 3,
   "metadata": {},
   "outputs": [
    {
     "name": "stdout",
     "output_type": "stream",
     "text": [
      "Prediction for original image: 7 Sneaker\n"
     ]
    },
    {
     "data": {
      "text/plain": [
       "<matplotlib.image.AxesImage at 0x168d42a49b0>"
      ]
     },
     "execution_count": 3,
     "metadata": {},
     "output_type": "execute_result"
    },
    {
     "data": {
      "image/png": "[encoded data removed]",
      "text/plain": [
       "<Figure size 432x288 with 1 Axes>"
      ]
     },
     "metadata": {
      "needs_background": "light"
     },
     "output_type": "display_data"
    }
   ],
   "source": [
    "original_image_num = 9\n",
    "\n",
    "x = test_images[original_image_num]\n",
    "y = np.argmax(predictions[original_image_num])\n",
    "y_name = class_names[y]\n",
    "\n",
    "print(\"Prediction for original image:\", y, y_name)\n",
    "\n",
    "plt.imshow(x, cmap=plt.cm.binary)\n"
   ]
  },
  {
   "cell_type": "code",
   "execution_count": 4,
   "metadata": {},
   "outputs": [
    {
     "name": "stdout",
     "output_type": "stream",
     "text": [
      "Prediction for starting point image: 5 Sandal\n"
     ]
    },
    {
     "data": {
      "text/plain": [
       "<matplotlib.image.AxesImage at 0x168d8334ac8>"
      ]
     },
     "execution_count": 4,
     "metadata": {},
     "output_type": "execute_result"
    },
    {
     "data": {
      "image/png": "[encoded data removed]",
      "text/plain": [
       "<Figure size 432x288 with 1 Axes>"
      ]
     },
     "metadata": {
      "needs_background": "light"
     },
     "output_type": "display_data"
    }
   ],
   "source": [
    "starting_point_image_num = 52\n",
    "\n",
    "starting_point_image = test_images[starting_point_image_num]\n",
    "y_adv = np.argmax(predictions[starting_point_image_num])\n",
    "y_adv_name = class_names[y_adv]\n",
    "\n",
    "print(\"Prediction for starting point image:\", y_adv, y_adv_name) \n",
    "import matplotlib.pyplot as plt\n",
    "\n",
    "plt.imshow(starting_point_image, cmap=plt.cm.binary)\n"
   ]
  },
  {
   "cell_type": "markdown",
   "metadata": {},
   "source": [
    "## Get a Foolbox model from our Keras one¶\n",
    "Create a Foolbox model from our Keras one. "
   ]
  },
  {
   "cell_type": "code",
   "execution_count": 5,
   "metadata": {},
   "outputs": [],
   "source": [
    "import foolbox\n",
    "fmodel = foolbox.models.TensorFlowModel.from_keras(model, bounds=(0, 1))"
   ]
  },
  {
   "cell_type": "markdown",
   "metadata": {},
   "source": [
    "## Define the attack specificity\n",
    "\n",
    "[foolbox.criteria](https://foolbox.readthedocs.io/en/latest/modules/criteria.html) defines the attach specificity (targeted versus untargeted) and the probability threshold required. \n",
    " "
   ]
  },
  {
   "cell_type": "code",
   "execution_count": 6,
   "metadata": {},
   "outputs": [],
   "source": [
    "attack_criterion = foolbox.criteria.TargetClass(y_adv)"
   ]
  },
  {
   "cell_type": "markdown",
   "metadata": {},
   "source": [
    "## Define the attack method"
   ]
  },
  {
   "cell_type": "code",
   "execution_count": 7,
   "metadata": {},
   "outputs": [],
   "source": [
    "attack = foolbox.attacks.BoundaryAttack(fmodel, criterion=attack_criterion)\n"
   ]
  },
  {
   "cell_type": "markdown",
   "metadata": {},
   "source": [
    "## Run the attack"
   ]
  },
  {
   "cell_type": "code",
   "execution_count": 10,
   "metadata": {
    "scrolled": false
   },
   "outputs": [
    {
     "name": "stdout",
     "output_type": "stream",
     "text": [
      "run with verbose=True to see details\n",
      "Step 0: 5.60511e-02, stepsizes = 1.0e-02/1.0e-02: \n",
      "Step 500: 1.25719e-02, stepsizes = 1.0e-02/1.3e-03: d. reduced by 0.26% (3.3177e-05) (took 0.00898 seconds)\n",
      "Step 1000: 1.07155e-03, stepsizes = 3.4e-02/3.0e-03:  (took 0.01197 seconds)\n",
      "Step 1500: 6.05335e-04, stepsizes = 1.0e-02/3.9e-04:  (took 0.01097 seconds)\n",
      "Step 2000: 5.27720e-04, stepsizes = 4.4e-03/1.7e-04:  (took 0.01297 seconds)\n",
      "Step 2500: 5.09628e-04, stepsizes = 5.9e-04/1.5e-05: d. reduced by 0.00% (1.5518e-08) (took 0.01396 seconds)\n",
      "Step 3000: 5.04694e-04, stepsizes = 3.9e-04/1.0e-05: d. reduced by 0.00% (1.0245e-08) (took 0.01296 seconds)\n",
      "Step 3500: 5.00969e-04, stepsizes = 2.6e-04/6.8e-06: d. reduced by 0.00% (6.7796e-09) (took 0.01396 seconds)\n",
      "Step 4000: 4.99318e-04, stepsizes = 7.7e-05/2.0e-06: d. reduced by 0.00% (2.0021e-09) (took 0.01297 seconds)\n",
      "Step 4500: 4.98847e-04, stepsizes = 2.3e-05/5.9e-07: d. reduced by 0.00% (5.9266e-10) (took 0.01396 seconds)\n",
      "Step 4930: 4.98754e-04, stepsizes = 2.0e-06/7.8e-08: \n",
      "Step 5000: 4.98754e-04, stepsizes = 1.0e-05/1.0e-05:  (took 0.01396 seconds)\n"
     ]
    }
   ],
   "source": [
    "x_adv = attack(input_or_adv = x, \n",
    "               label = y,\n",
    "               starting_point = starting_point_image,\n",
    "               unpack = False,\n",
    "               log_every_n_steps = 500)"
   ]
  },
  {
   "cell_type": "markdown",
   "metadata": {},
   "source": [
    "If the attack was successful, the images should be different. Take a look to see whether this is the case."
   ]
  },
  {
   "cell_type": "code",
   "execution_count": 11,
   "metadata": {},
   "outputs": [
    {
     "name": "stdout",
     "output_type": "stream",
     "text": [
      "normalized MSE = 4.99e-04\n"
     ]
    },
    {
     "data": {
      "image/png": "[encoded data removed]",
      "text/plain": [
       "<Figure size 432x288 with 3 Axes>"
      ]
     },
     "metadata": {
      "needs_background": "light"
     },
     "output_type": "display_data"
    }
   ],
   "source": [
    "if ((x_adv is None) or (np.array_equal(x, x_adv.image))):\n",
    "    print(\"No adversarial example was found\")\n",
    "else:   \n",
    "    preds = model.predict(np.array([x_adv.image]))\n",
    "\n",
    "    plt.figure()\n",
    "\n",
    "    # Plot the original image\n",
    "    plt.subplot(1, 3, 1)\n",
    "    title = \"orig (\" + y_name + \")\"\n",
    "    plt.title(title)\n",
    "    plt.imshow(x, cmap=plt.cm.binary)\n",
    "    plt.axis('off')\n",
    "\n",
    "    # Plot the adversarial image\n",
    "    plt.subplot(1, 3, 2)\n",
    "    title = \"adv (\" + class_names[np.argmax(preds[0])] + \")\"\n",
    "    plt.title(title)\n",
    "    plt.imshow(x_adv.image, cmap=plt.cm.binary)\n",
    "    plt.axis('off')\n",
    "\n",
    "    # Plot the difference\n",
    "    plt.subplot(1, 3, 3)\n",
    "    plt.title('diff')\n",
    "    difference = x_adv.image - x\n",
    "    plt.imshow(difference, vmin=0, vmax=1, cmap=plt.cm.binary)\n",
    "    plt.axis('off')\n",
    "\n",
    "    print(x_adv.distance)\n",
    "    plt.show()\n"
   ]
  },
  {
   "cell_type": "code",
   "execution_count": 13,
   "metadata": {},
   "outputs": [
    {
     "data": {
      "image/png": "[encoded data removed]",
      "text/plain": [
       "<Figure size 432x288 with 3 Axes>"
      ]
     },
     "metadata": {
      "needs_background": "light"
     },
     "output_type": "display_data"
    }
   ],
   "source": [
    "plt.figure()\n",
    "\n",
    "plt.subplot(1, 3, 1)\n",
    "title = y_name\n",
    "plt.title(title)\n",
    "plt.imshow(x, cmap=plt.cm.binary)\n",
    "plt.axis('off')\n",
    "\n",
    "plt.subplot(1, 3, 2)\n",
    "title = class_names[np.argmax(model.predict(np.array([x_adv]))[0])]\n",
    "plt.title(title)\n",
    "plt.imshow(x_adv, cmap=plt.cm.binary)\n",
    "plt.axis('off')\n",
    "\n",
    "plt.subplot(1, 3, 3)\n",
    "plt.title('Difference')\n",
    "difference = x_adv - x\n",
    "plt.imshow(difference, vmin=0, vmax=1, cmap=plt.cm.binary)\n",
    "plt.axis('off')\n",
    "\n",
    "plt.show()\n"
   ]
  },
  {
   "cell_type": "code",
   "execution_count": 73,
   "metadata": {},
   "outputs": [
    {
     "name": "stdout",
     "output_type": "stream",
     "text": [
      "0\n",
      "run with verbose=True to see details\n",
      "Step 0: 5.60511e-02, stepsizes = 1.0e-02/1.0e-02: \n",
      "1\n",
      "run with verbose=True to see details\n",
      "Step 0: 5.60511e-02, stepsizes = 1.0e-02/1.0e-02: \n",
      "Step 100: 3.22209e-02, stepsizes = 1.0e-02/4.4e-03: d. reduced by 0.89% (2.8833e-04) (took 0.02194 seconds)\n",
      "2\n",
      "run with verbose=True to see details\n",
      "Step 0: 5.60511e-02, stepsizes = 1.0e-02/1.0e-02: \n",
      "Step 100: 3.50681e-02, stepsizes = 1.0e-02/4.4e-03:  (took 0.02094 seconds)\n",
      "Step 200: 2.89856e-02, stepsizes = 6.7e-03/2.0e-03:  (took 0.01097 seconds)\n",
      "3\n",
      "run with verbose=True to see details\n",
      "Step 0: 5.60511e-02, stepsizes = 1.0e-02/1.0e-02: \n",
      "Step 100: 3.46031e-02, stepsizes = 1.0e-02/4.4e-03:  (took 0.02493 seconds)\n",
      "Step 200: 2.81953e-02, stepsizes = 1.0e-02/2.0e-03: d. reduced by 0.39% (1.1172e-04) (took 0.01296 seconds)\n",
      "Step 300: 2.03063e-02, stepsizes = 1.5e-02/4.4e-03: d. reduced by 0.39% (8.0461e-05) (took 0.01496 seconds)\n",
      "4\n",
      "run with verbose=True to see details\n",
      "Step 0: 5.60511e-02, stepsizes = 1.0e-02/1.0e-02: \n",
      "Step 100: 3.40698e-02, stepsizes = 1.0e-02/4.4e-03:  (took 0.02194 seconds)\n",
      "Step 200: 2.49980e-02, stepsizes = 1.0e-02/2.0e-03: d. reduced by 0.39% (9.9051e-05) (took 0.01297 seconds)\n",
      "Step 300: 1.69309e-02, stepsizes = 1.0e-02/2.0e-03: d. reduced by 0.39% (6.7086e-05) (took 0.01197 seconds)\n",
      "Step 400: 1.23631e-02, stepsizes = 1.5e-02/2.0e-03:  (took 0.01197 seconds)\n",
      "5\n",
      "run with verbose=True to see details\n",
      "Step 0: 5.60511e-02, stepsizes = 1.0e-02/1.0e-02: \n",
      "Step 100: 3.28021e-02, stepsizes = 1.5e-02/6.7e-03: d. reduced by 0.89% (2.9353e-04) (took 0.02194 seconds)\n",
      "Step 200: 2.81776e-02, stepsizes = 1.0e-02/2.0e-03: d. reduced by 0.39% (1.1165e-04) (took 0.01197 seconds)\n",
      "Step 300: 1.70157e-02, stepsizes = 1.5e-02/3.0e-03: d. reduced by 0.59% (1.0128e-04) (took 0.01596 seconds)\n",
      "Step 400: 1.02747e-02, stepsizes = 1.5e-02/3.0e-03: d. reduced by 0.59% (6.1159e-05) (took 0.01197 seconds)\n",
      "Step 500: 8.15793e-03, stepsizes = 1.0e-02/1.3e-03: d. reduced by 0.26% (2.1528e-05) (took 0.00898 seconds)\n",
      "6\n",
      "run with verbose=True to see details\n",
      "Step 0: 5.60511e-02, stepsizes = 1.0e-02/1.0e-02: \n",
      "Step 100: 3.35414e-02, stepsizes = 1.0e-02/4.4e-03:  (took 0.02294 seconds)\n",
      "Step 200: 2.59606e-02, stepsizes = 1.0e-02/2.0e-03:  (took 0.01197 seconds)\n",
      "Step 300: 1.75480e-02, stepsizes = 1.5e-02/2.0e-03: d. reduced by 0.39% (6.9531e-05) (took 0.01396 seconds)\n",
      "Step 400: 1.12672e-02, stepsizes = 1.5e-02/3.0e-03: d. reduced by 0.59% (6.7066e-05) (took 0.01197 seconds)\n",
      "Step 500: 7.72265e-03, stepsizes = 1.5e-02/2.0e-03:  (took 0.01197 seconds)\n",
      "Step 600: 6.09177e-03, stepsizes = 1.5e-02/2.0e-03: d. reduced by 0.26% (1.6076e-05) (took 0.01396 seconds)\n",
      "7\n",
      "run with verbose=True to see details\n",
      "Step 0: 5.60511e-02, stepsizes = 1.0e-02/1.0e-02: \n",
      "Step 100: 3.43736e-02, stepsizes = 1.0e-02/4.4e-03:  (took 0.02194 seconds)\n",
      "Step 200: 2.75422e-02, stepsizes = 1.0e-02/2.0e-03: d. reduced by 0.39% (1.0913e-04) (took 0.01297 seconds)\n",
      "Step 300: 1.95215e-02, stepsizes = 1.5e-02/4.4e-03:  (took 0.01297 seconds)\n",
      "Step 400: 1.39596e-02, stepsizes = 1.5e-02/3.0e-03: d. reduced by 0.59% (8.3093e-05) (took 0.01197 seconds)\n",
      "Step 500: 1.09244e-02, stepsizes = 1.0e-02/1.3e-03: d. reduced by 0.26% (2.8829e-05) (took 0.01296 seconds)\n",
      "Step 600: 7.98292e-03, stepsizes = 1.0e-02/1.3e-03: d. reduced by 0.26% (2.1067e-05) (took 0.01197 seconds)\n",
      "Step 700: 6.54240e-03, stepsizes = 1.0e-02/1.3e-03: d. reduced by 0.39% (2.5923e-05) (took 0.01396 seconds)\n",
      "8\n",
      "run with verbose=True to see details\n",
      "Step 0: 5.60511e-02, stepsizes = 1.0e-02/1.0e-02: \n",
      "Step 100: 3.32429e-02, stepsizes = 1.0e-02/4.4e-03:  (took 0.02094 seconds)\n",
      "Step 200: 2.55017e-02, stepsizes = 6.7e-03/1.3e-03: d. reduced by 0.26% (6.7298e-05) (took 0.01197 seconds)\n",
      "Step 300: 1.91579e-02, stepsizes = 6.7e-03/2.0e-03:  (took 0.01197 seconds)\n",
      "Step 400: 1.51922e-02, stepsizes = 6.7e-03/1.3e-03: d. reduced by 0.26% (4.0092e-05) (took 0.01297 seconds)\n",
      "Step 500: 1.28008e-02, stepsizes = 6.7e-03/1.3e-03: d. reduced by 0.18% (2.2506e-05) (took 0.01197 seconds)\n",
      "Step 600: 1.07005e-02, stepsizes = 6.7e-03/1.3e-03:  (took 0.01496 seconds)\n",
      "Step 700: 9.25679e-03, stepsizes = 6.7e-03/8.8e-04: d. reduced by 0.18% (1.6275e-05) (took 0.01097 seconds)\n",
      "Step 800: 7.94705e-03, stepsizes = 4.4e-03/5.9e-04: d. reduced by 0.12% (9.3106e-06) (took 0.01197 seconds)\n",
      "9\n",
      "run with verbose=True to see details\n",
      "Step 0: 5.60511e-02, stepsizes = 1.0e-02/1.0e-02: \n",
      "Step 100: 3.25816e-02, stepsizes = 1.5e-02/6.7e-03:  (took 0.02294 seconds)\n",
      "Step 200: 2.50406e-02, stepsizes = 1.0e-02/2.0e-03: d. reduced by 0.39% (9.9220e-05) (took 0.01197 seconds)\n",
      "Step 300: 1.68275e-02, stepsizes = 1.5e-02/3.0e-03:  (took 0.01296 seconds)\n",
      "Step 400: 9.79409e-03, stepsizes = 2.2e-02/4.4e-03: d. reduced by 0.89% (8.7642e-05) (took 0.01197 seconds)\n",
      "Step 500: 6.71841e-03, stepsizes = 2.2e-02/3.0e-03: d. reduced by 0.59% (3.9990e-05) (took 0.01197 seconds)\n",
      "Step 600: 4.94505e-03, stepsizes = 1.5e-02/1.3e-03: d. reduced by 0.26% (1.3050e-05) (took 0.01296 seconds)\n",
      "Step 700: 4.08843e-03, stepsizes = 1.0e-02/8.8e-04: d. reduced by 0.18% (7.1881e-06) (took 0.00997 seconds)\n",
      "Step 800: 3.38186e-03, stepsizes = 1.5e-02/8.8e-04: d. reduced by 0.26% (8.9246e-06) (took 0.01296 seconds)\n",
      "Step 900: 2.90509e-03, stepsizes = 1.0e-02/8.8e-04: d. reduced by 0.18% (5.1076e-06) (took 0.01197 seconds)\n",
      "10\n",
      "run with verbose=True to see details\n",
      "Step 0: 5.60511e-02, stepsizes = 1.0e-02/1.0e-02: \n",
      "Step 100: 3.37676e-02, stepsizes = 1.0e-02/4.4e-03:  (took 0.02393 seconds)\n",
      "Step 200: 2.44608e-02, stepsizes = 1.5e-02/3.0e-03: d. reduced by 0.39% (9.6922e-05) (took 0.01795 seconds)\n",
      "Step 300: 1.40403e-02, stepsizes = 1.0e-02/2.0e-03: d. reduced by 0.59% (8.3573e-05) (took 0.01297 seconds)\n",
      "Step 400: 1.06596e-02, stepsizes = 1.0e-02/1.3e-03: d. reduced by 0.26% (2.8130e-05) (took 0.00997 seconds)\n",
      "Step 500: 8.40767e-03, stepsizes = 1.0e-02/1.3e-03: d. reduced by 0.26% (2.2187e-05) (took 0.01297 seconds)\n",
      "Step 600: 6.83947e-03, stepsizes = 6.7e-03/8.8e-04: d. reduced by 0.18% (1.2025e-05) (took 0.01197 seconds)\n",
      "Step 700: 6.09080e-03, stepsizes = 6.7e-03/8.8e-04: d. reduced by 0.12% (7.1359e-06) (took 0.01596 seconds)\n",
      "Step 800: 5.57856e-03, stepsizes = 6.7e-03/8.8e-04:  (took 0.01297 seconds)\n",
      "Step 900: 4.89286e-03, stepsizes = 6.7e-03/5.9e-04: d. reduced by 0.12% (5.7324e-06) (took 0.01197 seconds)\n",
      "Step 1000: 4.43186e-03, stepsizes = 6.7e-03/8.8e-04:  (took 0.01296 seconds)\n",
      "11\n",
      "run with verbose=True to see details\n",
      "Step 0: 5.60511e-02, stepsizes = 1.0e-02/1.0e-02: \n",
      "Step 100: 3.34651e-02, stepsizes = 1.5e-02/6.7e-03:  (took 0.02094 seconds)\n",
      "Step 200: 2.63496e-02, stepsizes = 1.5e-02/3.0e-03: d. reduced by 0.59% (1.5684e-04) (took 0.01296 seconds)\n",
      "Step 300: 1.46400e-02, stepsizes = 2.2e-02/3.0e-03: d. reduced by 0.59% (8.7143e-05) (took 0.00598 seconds)\n",
      "Step 400: 8.63279e-03, stepsizes = 2.2e-02/3.0e-03: d. reduced by 0.59% (5.1386e-05) (took 0.01097 seconds)\n",
      "Step 500: 5.66484e-03, stepsizes = 2.2e-02/2.0e-03: d. reduced by 0.39% (2.2446e-05) (took 0.00798 seconds)\n",
      "Step 600: 4.03709e-03, stepsizes = 1.5e-02/1.3e-03: d. reduced by 0.26% (1.0654e-05) (took 0.01297 seconds)\n",
      "Step 700: 3.36590e-03, stepsizes = 1.0e-02/8.8e-04:  (took 0.01297 seconds)\n",
      "Step 800: 3.08955e-03, stepsizes = 6.7e-03/5.9e-04: d. reduced by 0.08% (2.4124e-06) (took 0.00798 seconds)\n",
      "Step 900: 2.78704e-03, stepsizes = 1.0e-02/5.9e-04: d. reduced by 0.12% (3.2653e-06) (took 0.00798 seconds)\n",
      "Step 1000: 2.49657e-03, stepsizes = 1.0e-02/5.9e-04: d. reduced by 0.12% (2.9249e-06) (took 0.00698 seconds)\n",
      "Step 1100: 2.23637e-03, stepsizes = 1.0e-02/5.9e-04: d. reduced by 0.12% (2.6201e-06) (took 0.01097 seconds)\n"
     ]
    }
   ],
   "source": [
    "num_iterations = 12\n",
    "perturbed_images = np.empty((num_iterations,28,28))\n",
    "\n",
    "                         \n",
    "for iterations in range (num_iterations):\n",
    "    print(iterations)\n",
    "    x_adv = attack(input_or_adv = x, \n",
    "                   label = y,\n",
    "                   iterations = iterations*100,\n",
    "                   starting_point = starting_point_image,\n",
    "                   log_every_n_steps = 100)\n",
    "    perturbed_images[iterations] = x_adv"
   ]
  },
  {
   "cell_type": "code",
   "execution_count": 84,
   "metadata": {},
   "outputs": [
    {
     "data": {
      "image/png": "[encoded data removed]",
      "text/plain": [
       "<Figure size 1080x720 with 12 Axes>"
      ]
     },
     "metadata": {},
     "output_type": "display_data"
    }
   ],
   "source": [
    "plt.figure(figsize=(15, 10))\n",
    "\n",
    "perturbed_predictions = model.predict(perturbed_images)\n",
    "\n",
    "for i in range(num_iterations):\n",
    "    plt.subplot(3,4,i+1)\n",
    "    plt.grid(False)\n",
    "    plt.xticks([])\n",
    "    plt.yticks([])\n",
    "    plt.imshow(perturbed_images[i], cmap=plt.cm.binary)\n",
    "    predicted_label = np.argmax(perturbed_predictions[i]) # the label should always be the target\n",
    "    plt.xlabel(\"{},({:.2f})\".format(class_names[predicted_label],\n",
    "                                    perturbed_predictions[i][predicted_label]))  \n",
    "\n"
   ]
  },
  {
   "cell_type": "code",
   "execution_count": null,
   "metadata": {},
   "outputs": [],
   "source": []
  }
 ],
 "metadata": {
  "kernelspec": {
   "display_name": "Python (strengthening-dnns)",
   "language": "python",
   "name": "strengthening-dnns"
  },
  "language_info": {
   "codemirror_mode": {
    "name": "ipython",
    "version": 3
   },
   "file_extension": ".py",
   "mimetype": "text/x-python",
   "name": "python",
   "nbconvert_exporter": "python",
   "pygments_lexer": "ipython3",
   "version": "3.7.3"
  }
 },
 "nbformat": 4,
 "nbformat_minor": 2
}
