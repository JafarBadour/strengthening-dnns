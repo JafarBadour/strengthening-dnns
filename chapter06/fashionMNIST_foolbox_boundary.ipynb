{
 "cells": [
  {
   "cell_type": "markdown",
   "metadata": {},
   "source": [
    "> Code to accompany **Chapter 6: Methods for Generating Adversarial Perturbation**"
   ]
  },
  {
   "cell_type": "markdown",
   "metadata": {},
   "source": [
    "# Fashion-MNIST Foolbox Boundary Attack\n",
    "\n",
    "The boundary attack iteratively refines the adversarial perturbation based on query responses from the DNN model. It is a black-box attack requiring no knowledge of the model architecture or its parameters. \n",
    "\n",
    "See chapter 6 for a detailed description of this attack.\n",
    "\n",
    "The boundary attack was proposed by Brendel et al. in [\"Decision-Based Adversarial Attacks: Reliable Attacks Against Black-Box Machine Learning Models\", Proceedings of the International Conference on Learning Representations (2018)](https://arxiv.org/abs/1712.04248).\n"
   ]
  },
  {
   "cell_type": "markdown",
   "metadata": {},
   "source": [
    "## Load in the model and its predictions\n"
   ]
  },
  {
   "cell_type": "markdown",
   "metadata": {},
   "source": [
    "Import the key libraries."
   ]
  },
  {
   "cell_type": "code",
   "execution_count": 1,
   "metadata": {},
   "outputs": [],
   "source": [
    "import numpy as np\n",
    "import matplotlib.pyplot as plt\n",
    "\n",
    "import tensorflow as tf\n",
    "from tensorflow import keras"
   ]
  },
  {
   "cell_type": "markdown",
   "metadata": {},
   "source": [
    "Load in the Fashion-MNIST model and get its predictions."
   ]
  },
  {
   "cell_type": "code",
   "execution_count": 2,
   "metadata": {},
   "outputs": [
    {
     "name": "stdout",
     "output_type": "stream",
     "text": [
      "WARNING:tensorflow:From C:\\Users\\katyw\\Anaconda3\\envs\\strengthening-dnns\\lib\\site-packages\\tensorflow\\python\\ops\\resource_variable_ops.py:435: colocate_with (from tensorflow.python.framework.ops) is deprecated and will be removed in a future version.\n",
      "Instructions for updating:\n",
      "Colocations handled automatically by placer.\n"
     ]
    }
   ],
   "source": [
    "fashion_mnist = keras.datasets.fashion_mnist\n",
    "_, (test_images, test_labels) = fashion_mnist.load_data()\n",
    "test_images = test_images/255.0\n",
    "class_names = ['T-shirt/top', 'Trouser', 'Pullover', 'Dress', 'Coat', \n",
    "               'Sandal', 'Shirt', 'Sneaker', 'Bag', 'Ankle boot']\n",
    "\n",
    "model = tf.keras.models.load_model('../models/fashionMNIST.h5')\n",
    "predictions = model.predict(test_images)"
   ]
  },
  {
   "cell_type": "markdown",
   "metadata": {},
   "source": [
    "## Select the original (non-adversarial) image\n"
   ]
  },
  {
   "cell_type": "markdown",
   "metadata": {},
   "source": [
    "The boundary attack begins with the target classification image rather than the original image. It iteratively moves the image closer to the original, while never allowing each iterative step to alter the adversarial classification by straying across the classification boundary.\n",
    "\n",
    "First, we select and display the original image - this is the one that we want the adversarial image to look like."
   ]
  },
  {
   "cell_type": "code",
   "execution_count": 3,
   "metadata": {},
   "outputs": [
    {
     "name": "stdout",
     "output_type": "stream",
     "text": [
      "Prediction for original image: 7 Sneaker\n"
     ]
    },
    {
     "data": {
      "text/plain": [
       "<matplotlib.image.AxesImage at 0x283b40a5c88>"
      ]
     },
     "execution_count": 3,
     "metadata": {},
     "output_type": "execute_result"
    },
    {
     "data": {
      "image/png": "[encoded data removed]",
      "text/plain": [
       "<Figure size 432x288 with 1 Axes>"
      ]
     },
     "metadata": {
      "needs_background": "light"
     },
     "output_type": "display_data"
    }
   ],
   "source": [
    "original_image_num = 9\n",
    "\n",
    "x = test_images[original_image_num]\n",
    "y = np.argmax(predictions[original_image_num])\n",
    "y_name = class_names[y]\n",
    "\n",
    "print(\"Prediction for original image:\", y, y_name)\n",
    "\n",
    "plt.imshow(x, cmap=plt.cm.binary)\n"
   ]
  },
  {
   "cell_type": "markdown",
   "metadata": {},
   "source": [
    "Now, let's get a target image. This gives us our target adversarial classification."
   ]
  },
  {
   "cell_type": "code",
   "execution_count": 4,
   "metadata": {},
   "outputs": [
    {
     "name": "stdout",
     "output_type": "stream",
     "text": [
      "Prediction for starting point image: 5 Sandal\n"
     ]
    },
    {
     "data": {
      "text/plain": [
       "<matplotlib.image.AxesImage at 0x283b4145c18>"
      ]
     },
     "execution_count": 4,
     "metadata": {},
     "output_type": "execute_result"
    },
    {
     "data": {
      "image/png": "[encoded data removed]",
      "text/plain": [
       "<Figure size 432x288 with 1 Axes>"
      ]
     },
     "metadata": {
      "needs_background": "light"
     },
     "output_type": "display_data"
    }
   ],
   "source": [
    "starting_point_image_num = 52\n",
    "\n",
    "starting_point_image = test_images[starting_point_image_num]\n",
    "y_adv = np.argmax(predictions[starting_point_image_num])\n",
    "y_adv_name = class_names[y_adv]\n",
    "\n",
    "print(\"Prediction for starting point image:\", y_adv, y_adv_name) \n",
    "import matplotlib.pyplot as plt\n",
    "\n",
    "plt.imshow(starting_point_image, cmap=plt.cm.binary)\n"
   ]
  },
  {
   "cell_type": "markdown",
   "metadata": {},
   "source": [
    "## Get a Foolbox model from our Keras one¶\n",
    "Create a Foolbox model from our Keras one. "
   ]
  },
  {
   "cell_type": "code",
   "execution_count": 5,
   "metadata": {},
   "outputs": [],
   "source": [
    "import foolbox\n",
    "fmodel = foolbox.models.TensorFlowModel.from_keras(model, bounds=(0, 1))"
   ]
  },
  {
   "cell_type": "markdown",
   "metadata": {},
   "source": [
    "## Define the attack specificity\n",
    "\n",
    "[foolbox.criteria](https://foolbox.readthedocs.io/en/latest/modules/criteria.html) defines the attach specificity (targeted versus untargeted) and the probability threshold required. In this case, we specify a target attack and the target class.\n",
    " "
   ]
  },
  {
   "cell_type": "code",
   "execution_count": 6,
   "metadata": {},
   "outputs": [],
   "source": [
    "attack_criterion = foolbox.criteria.TargetClass(y_adv)"
   ]
  },
  {
   "cell_type": "markdown",
   "metadata": {},
   "source": [
    "## Define the attack method"
   ]
  },
  {
   "cell_type": "code",
   "execution_count": 7,
   "metadata": {},
   "outputs": [],
   "source": [
    "attack = foolbox.attacks.BoundaryAttack(fmodel, criterion=attack_criterion)\n"
   ]
  },
  {
   "cell_type": "markdown",
   "metadata": {},
   "source": [
    "## Run the attack\n",
    "\n",
    "Remember, we start from the target and gradually creap back to the original. We are making the target look more and more like the original, without every allowing it to take a step that will change its classification."
   ]
  },
  {
   "cell_type": "code",
   "execution_count": 11,
   "metadata": {
    "scrolled": false
   },
   "outputs": [
    {
     "name": "stdout",
     "output_type": "stream",
     "text": [
      "run with verbose=True to see details\n",
      "Step 0: 5.60511e-02, stepsizes = 1.0e-02/1.0e-02: \n",
      "Step 500: 9.93002e-03, stepsizes = 1.5e-02/2.0e-03: d. reduced by 0.59% (5.9107e-05) (took 0.02669 seconds)\n",
      "Step 1000: 9.88033e-04, stepsizes = 3.4e-02/2.0e-03: d. reduced by 0.39% (3.9149e-06) (took 0.02609 seconds)\n",
      "Step 1500: 5.60887e-04, stepsizes = 1.0e-02/2.6e-04: d. reduced by 0.05% (2.9191e-07) (took 0.02581 seconds)\n",
      "Step 2000: 4.93087e-04, stepsizes = 3.0e-03/7.7e-05: d. reduced by 0.01% (5.0676e-08) (took 0.01474 seconds)\n"
     ]
    }
   ],
   "source": [
    "x_adv = attack(input_or_adv=x, \n",
    "               label = y,\n",
    "               starting_point = starting_point_image,\n",
    "               unpack = False,\n",
    "               iterations = 2000,\n",
    "               log_every_n_steps = 500)"
   ]
  },
  {
   "cell_type": "markdown",
   "metadata": {},
   "source": [
    "## Display the results\n",
    "\n",
    "If the attack was successful, the images should be different. Take a look to see whether this is the case."
   ]
  },
  {
   "cell_type": "code",
   "execution_count": 14,
   "metadata": {
    "scrolled": true
   },
   "outputs": [
    {
     "name": "stdout",
     "output_type": "stream",
     "text": [
      "normalized MSE = 4.93e-04\n"
     ]
    },
    {
     "data": {
      "image/png": "[encoded data removed]",
      "text/plain": [
       "<Figure size 432x288 with 3 Axes>"
      ]
     },
     "metadata": {
      "needs_background": "light"
     },
     "output_type": "display_data"
    }
   ],
   "source": [
    "if ((x_adv is None) or (np.array_equal(x, x_adv.image))):\n",
    "    print(\"No adversarial example was found\")\n",
    "else:   \n",
    "    preds = model.predict(np.array([x_adv.image]))\n",
    "\n",
    "    plt.figure()\n",
    "\n",
    "    # Plot the original image\n",
    "    plt.subplot(1, 3, 1)\n",
    "    plt.title(y_name)\n",
    "    plt.imshow(x, cmap=plt.cm.binary)\n",
    "    plt.axis('off')\n",
    "\n",
    "    # Plot the adversarial image\n",
    "    plt.subplot(1, 3, 2)\n",
    "    plt.title(class_names[np.argmax(preds[0])])\n",
    "    plt.imshow(x_adv.image, cmap=plt.cm.binary)\n",
    "    plt.axis('off')\n",
    "\n",
    "    # Plot the difference\n",
    "    plt.subplot(1, 3, 3)\n",
    "    plt.title('Difference')\n",
    "    difference = x_adv.image - x\n",
    "    plt.imshow(difference, vmin=0, vmax=1, cmap=plt.cm.binary)\n",
    "    plt.axis('off')\n",
    "    \n",
    "    plt.show()\n"
   ]
  },
  {
   "cell_type": "markdown",
   "metadata": {},
   "source": [
    "## Create and view the intermediate perturbations\n",
    "\n",
    "If you are interested in seeing the images "
   ]
  },
  {
   "cell_type": "code",
   "execution_count": 10,
   "metadata": {},
   "outputs": [
    {
     "name": "stdout",
     "output_type": "stream",
     "text": [
      "0\n",
      "run with verbose=True to see details\n",
      "Step 0: 5.60511e-02, stepsizes = 1.0e-02/1.0e-02: \n",
      "1\n",
      "run with verbose=True to see details\n",
      "Step 0: 5.60511e-02, stepsizes = 1.0e-02/1.0e-02: \n",
      "Step 100: 3.46021e-02, stepsizes = 1.5e-02/6.7e-03:  (took 0.03304 seconds)\n",
      "2\n",
      "run with verbose=True to see details\n",
      "Step 0: 5.60511e-02, stepsizes = 1.0e-02/1.0e-02: \n",
      "Step 100: 3.43713e-02, stepsizes = 1.0e-02/4.4e-03:  (took 0.04279 seconds)\n",
      "Step 200: 3.04150e-02, stepsizes = 6.7e-03/1.3e-03: d. reduced by 0.26% (8.0264e-05) (took 0.02425 seconds)\n",
      "3\n",
      "run with verbose=True to see details\n",
      "Step 0: 5.60511e-02, stepsizes = 1.0e-02/1.0e-02: \n",
      "Step 100: 3.34629e-02, stepsizes = 1.5e-02/6.7e-03:  (took 0.05117 seconds)\n",
      "Step 200: 2.70096e-02, stepsizes = 6.7e-03/1.3e-03: d. reduced by 0.39% (1.0702e-04) (took 0.02393 seconds)\n",
      "Step 300: 2.23219e-02, stepsizes = 6.7e-03/8.8e-04: d. reduced by 0.18% (3.9245e-05) (took 0.02608 seconds)\n",
      "4\n",
      "run with verbose=True to see details\n",
      "Step 0: 5.60511e-02, stepsizes = 1.0e-02/1.0e-02: \n",
      "Step 100: 3.36886e-02, stepsizes = 1.5e-02/6.7e-03:  (took 0.05001 seconds)\n",
      "Step 200: 2.64761e-02, stepsizes = 6.7e-03/1.3e-03:  (took 0.01635 seconds)\n",
      "Step 300: 2.15947e-02, stepsizes = 6.7e-03/8.8e-04: d. reduced by 0.18% (3.7967e-05) (took 0.02401 seconds)\n",
      "Step 400: 1.78468e-02, stepsizes = 6.7e-03/1.3e-03: d. reduced by 0.26% (4.7097e-05) (took 0.01504 seconds)\n",
      "5\n",
      "run with verbose=True to see details\n",
      "Step 0: 5.60511e-02, stepsizes = 1.0e-02/1.0e-02: \n",
      "Step 100: 3.49892e-02, stepsizes = 1.0e-02/4.4e-03:  (took 0.04601 seconds)\n",
      "Step 200: 2.82593e-02, stepsizes = 1.0e-02/2.0e-03: d. reduced by 0.39% (1.1197e-04) (took 0.02445 seconds)\n",
      "Step 300: 2.17406e-02, stepsizes = 1.0e-02/1.3e-03: d. reduced by 0.26% (5.7372e-05) (took 0.00787 seconds)\n",
      "Step 400: 1.66146e-02, stepsizes = 1.5e-02/2.0e-03: d. reduced by 0.39% (6.5833e-05) (took 0.03118 seconds)\n",
      "Step 500: 1.13214e-02, stepsizes = 1.5e-02/2.0e-03: d. reduced by 0.39% (4.4859e-05) (took 0.01133 seconds)\n",
      "6\n",
      "run with verbose=True to see details\n",
      "Step 0: 5.60511e-02, stepsizes = 1.0e-02/1.0e-02: \n",
      "Step 100: 3.26548e-02, stepsizes = 1.5e-02/4.4e-03: d. reduced by 0.89% (2.9221e-04) (took 0.02236 seconds)\n",
      "Step 200: 2.44378e-02, stepsizes = 1.0e-02/2.0e-03: d. reduced by 0.39% (9.6831e-05) (took 0.02346 seconds)\n",
      "Step 300: 1.93020e-02, stepsizes = 1.0e-02/2.0e-03: d. reduced by 0.26% (5.0937e-05) (took 0.01522 seconds)\n",
      "Step 400: 1.28170e-02, stepsizes = 1.5e-02/2.0e-03:  (took 0.01692 seconds)\n",
      "Step 500: 7.67068e-03, stepsizes = 2.2e-02/4.4e-03: d. reduced by 0.89% (6.8641e-05) (took 0.02636 seconds)\n",
      "Step 600: 4.23710e-03, stepsizes = 2.2e-02/2.0e-03: d. reduced by 0.59% (2.5221e-05) (took 0.01400 seconds)\n",
      "7\n",
      "run with verbose=True to see details\n",
      "Step 0: 5.60511e-02, stepsizes = 1.0e-02/1.0e-02: \n",
      "Step 100: 3.39135e-02, stepsizes = 1.5e-02/6.7e-03:  (took 0.04659 seconds)\n",
      "Step 200: 2.65609e-02, stepsizes = 1.0e-02/2.0e-03: d. reduced by 0.39% (1.0524e-04) (took 0.02221 seconds)\n",
      "Step 300: 2.06218e-02, stepsizes = 1.0e-02/2.0e-03: d. reduced by 0.39% (8.1711e-05) (took 0.02056 seconds)\n",
      "Step 400: 1.58439e-02, stepsizes = 1.0e-02/2.0e-03: d. reduced by 0.39% (6.2779e-05) (took 0.01673 seconds)\n",
      "Step 500: 1.19498e-02, stepsizes = 1.0e-02/1.3e-03:  (took 0.03013 seconds)\n",
      "Step 600: 9.07262e-03, stepsizes = 1.5e-02/3.0e-03: d. reduced by 0.59% (5.4004e-05) (took 0.02460 seconds)\n",
      "Step 700: 5.32884e-03, stepsizes = 2.2e-02/3.0e-03: d. reduced by 0.59% (3.1719e-05) (took 0.01408 seconds)\n",
      "8\n",
      "run with verbose=True to see details\n",
      "Step 0: 5.60511e-02, stepsizes = 1.0e-02/1.0e-02: \n",
      "Step 100: 3.46021e-02, stepsizes = 1.5e-02/6.7e-03:  (took 0.04633 seconds)\n",
      "Step 200: 2.75033e-02, stepsizes = 1.0e-02/2.0e-03: d. reduced by 0.39% (1.0898e-04) (took 0.02409 seconds)\n",
      "Step 300: 2.17517e-02, stepsizes = 1.0e-02/1.3e-03: d. reduced by 0.26% (5.7402e-05) (took 0.02451 seconds)\n",
      "Step 400: 1.71348e-02, stepsizes = 1.0e-02/2.0e-03: d. reduced by 0.39% (6.7894e-05) (took 0.01800 seconds)\n",
      "Step 500: 1.35515e-02, stepsizes = 1.0e-02/1.3e-03: d. reduced by 0.26% (3.5762e-05) (took 0.03385 seconds)\n",
      "Step 600: 1.02753e-02, stepsizes = 1.5e-02/2.0e-03: d. reduced by 0.39% (4.0714e-05) (took 0.02376 seconds)\n",
      "Step 700: 6.83733e-03, stepsizes = 2.2e-02/3.0e-03: d. reduced by 0.59% (4.0698e-05) (took 0.01959 seconds)\n",
      "Step 800: 3.85511e-03, stepsizes = 3.4e-02/4.4e-03: d. reduced by 0.89% (3.4497e-05) (took 0.01314 seconds)\n",
      "9\n",
      "run with verbose=True to see details\n",
      "Step 0: 5.60511e-02, stepsizes = 1.0e-02/1.0e-02: \n",
      "Step 100: 3.30182e-02, stepsizes = 1.5e-02/6.7e-03:  (took 0.05156 seconds)\n",
      "Step 200: 2.77824e-02, stepsizes = 1.0e-02/2.0e-03: d. reduced by 0.39% (1.1008e-04) (took 0.01708 seconds)\n",
      "Step 300: 2.18091e-02, stepsizes = 6.7e-03/8.8e-04: d. reduced by 0.18% (3.8344e-05) (took 0.01637 seconds)\n",
      "Step 400: 1.84247e-02, stepsizes = 6.7e-03/8.8e-04: d. reduced by 0.18% (3.2393e-05) (took 0.02472 seconds)\n",
      "Step 500: 1.51604e-02, stepsizes = 6.7e-03/8.8e-04: d. reduced by 0.18% (2.6654e-05) (took 0.00814 seconds)\n",
      "Step 600: 1.27069e-02, stepsizes = 1.0e-02/1.3e-03:  (took 0.02365 seconds)\n",
      "Step 700: 1.00237e-02, stepsizes = 1.0e-02/1.3e-03: d. reduced by 0.26% (2.6452e-05) (took 0.02059 seconds)\n",
      "Step 800: 7.83428e-03, stepsizes = 1.5e-02/3.0e-03: d. reduced by 0.39% (3.1042e-05) (took 0.02633 seconds)\n",
      "Step 900: 4.37880e-03, stepsizes = 2.2e-02/3.0e-03: d. reduced by 0.59% (2.6064e-05) (took 0.01969 seconds)\n",
      "10\n",
      "run with verbose=True to see details\n",
      "Step 0: 5.60511e-02, stepsizes = 1.0e-02/1.0e-02: \n",
      "Step 100: 3.37643e-02, stepsizes = 1.0e-02/4.4e-03:  (took 0.02493 seconds)\n",
      "Step 200: 2.69753e-02, stepsizes = 6.7e-03/1.3e-03: d. reduced by 0.26% (7.1187e-05) (took 0.01297 seconds)\n",
      "Step 300: 2.24907e-02, stepsizes = 6.7e-03/8.8e-04: d. reduced by 0.18% (3.9542e-05) (took 0.02707 seconds)\n",
      "Step 400: 1.85223e-02, stepsizes = 1.0e-02/1.3e-03: d. reduced by 0.26% (4.8880e-05) (took 0.02362 seconds)\n",
      "Step 500: 1.43245e-02, stepsizes = 1.0e-02/1.3e-03: d. reduced by 0.26% (3.7802e-05) (took 0.02285 seconds)\n",
      "Step 600: 1.00407e-02, stepsizes = 1.5e-02/3.0e-03: d. reduced by 0.59% (5.9766e-05) (took 0.02612 seconds)\n",
      "Step 700: 7.02003e-03, stepsizes = 1.5e-02/2.0e-03: d. reduced by 0.26% (1.8526e-05) (took 0.02641 seconds)\n",
      "Step 800: 4.78353e-03, stepsizes = 1.5e-02/2.0e-03: d. reduced by 0.39% (1.8954e-05) (took 0.01157 seconds)\n",
      "Step 900: 3.31152e-03, stepsizes = 1.5e-02/2.0e-03: d. reduced by 0.39% (1.3121e-05) (took 0.02193 seconds)\n",
      "Step 1000: 2.46822e-03, stepsizes = 1.5e-02/1.3e-03:  (took 0.02621 seconds)\n",
      "11\n",
      "run with verbose=True to see details\n",
      "Step 0: 5.60511e-02, stepsizes = 1.0e-02/1.0e-02: \n",
      "Step 100: 3.41423e-02, stepsizes = 1.5e-02/6.7e-03:  (took 0.04196 seconds)\n",
      "Step 200: 2.68448e-02, stepsizes = 1.0e-02/2.0e-03: d. reduced by 0.39% (1.0637e-04) (took 0.02726 seconds)\n",
      "Step 300: 2.12127e-02, stepsizes = 6.7e-03/8.8e-04: d. reduced by 0.18% (3.7295e-05) (took 0.01667 seconds)\n",
      "Step 400: 1.74850e-02, stepsizes = 6.7e-03/1.3e-03: d. reduced by 0.26% (4.6142e-05) (took 0.02815 seconds)\n",
      "Step 500: 1.45015e-02, stepsizes = 6.7e-03/8.8e-04: d. reduced by 0.18% (2.5496e-05) (took 0.02384 seconds)\n",
      "Step 600: 1.20799e-02, stepsizes = 1.0e-02/2.0e-03: d. reduced by 0.39% (4.7865e-05) (took 0.02426 seconds)\n",
      "Step 700: 1.00180e-02, stepsizes = 1.0e-02/1.3e-03:  (took 0.03006 seconds)\n",
      "Step 800: 8.13515e-03, stepsizes = 1.0e-02/8.8e-04: d. reduced by 0.18% (1.4303e-05) (took 0.02096 seconds)\n",
      "Step 900: 5.71916e-03, stepsizes = 1.5e-02/2.0e-03: d. reduced by 0.39% (2.2661e-05) (took 0.01393 seconds)\n",
      "Step 1000: 3.44681e-03, stepsizes = 2.2e-02/3.0e-03: d. reduced by 0.59% (2.0517e-05) (took 0.01297 seconds)\n",
      "Step 1100: 2.13105e-03, stepsizes = 5.1e-02/6.7e-03:  (took 0.02722 seconds)\n"
     ]
    }
   ],
   "source": [
    "num_iterations = 12\n",
    "perturbed_images = np.empty((num_iterations,28,28))\n",
    "\n",
    "                         \n",
    "for iterations in range (num_iterations):\n",
    "    print(iterations)\n",
    "    x_adv = attack(input_or_adv = x, \n",
    "                   label = y,\n",
    "                   iterations = iterations*100,\n",
    "                   starting_point = starting_point_image,\n",
    "                   log_every_n_steps = 100)\n",
    "    perturbed_images[iterations] = x_adv"
   ]
  },
  {
   "cell_type": "code",
   "execution_count": 11,
   "metadata": {},
   "outputs": [
    {
     "data": {
      "image/png": "[encoded data removed]",
      "text/plain": [
       "<Figure size 1080x720 with 12 Axes>"
      ]
     },
     "metadata": {},
     "output_type": "display_data"
    }
   ],
   "source": [
    "plt.figure(figsize=(15, 10))\n",
    "\n",
    "perturbed_predictions = model.predict(perturbed_images)\n",
    "\n",
    "for i in range(num_iterations):\n",
    "    plt.subplot(3,4,i+1)\n",
    "    plt.grid(False)\n",
    "    plt.xticks([])\n",
    "    plt.yticks([])\n",
    "    plt.imshow(perturbed_images[i], cmap=plt.cm.binary)\n",
    "    predicted_label = np.argmax(perturbed_predictions[i]) # the label should always be the target\n",
    "    plt.xlabel(\"{},({:.2f})\".format(class_names[predicted_label],\n",
    "                                    perturbed_predictions[i][predicted_label]))  \n",
    "\n"
   ]
  },
  {
   "cell_type": "markdown",
   "metadata": {},
   "source": [
    "## Where next?\n",
    "\n",
    "Take a look at other attacks. For example:\n",
    "\n",
    "* The Foolbox Gradient Attack (white box). Here's the [Jupyter notebook on GitHub](https://github.com/katywarr/strengthening-dnns/blob/master/chapter06/fashionMNIST_foolbox_gradient.ipynb) and here's the [relative path to the Jypyter notebook](./fashionMNIST_foolbox_gradient.ipynb) if you want to run it.\n",
    "\n",
    "\n",
    "Want to move on to more complicated images? Try:\n",
    "\n",
    "* The Foolbox saliency attack using the ResNet50 classifier. Here's the [Jupyter notebook on GitHub](https://github.com/katywarr/strengthening-dnns/blob/master/chapter06/resnet50_foolbox_saliency.ipynb) and here's the [relative path to the Jypyter notebook](./resnet50_foolbox_saliency.ipynb) if you want to run it.\n",
    "\n",
    "There are many more examples of adversarial attacks online. See [RESOURCES.md](https://github.com/katywarr/strengthening-dnns/blob/master/RESOURCES.md) for links to collaborative projects for creating and defending against attacks."
   ]
  }
 ],
 "metadata": {
  "kernelspec": {
   "display_name": "Python (strengthening-dnns)",
   "language": "python",
   "name": "strengthening-dnns"
  },
  "language_info": {
   "codemirror_mode": {
    "name": "ipython",
    "version": 3
   },
   "file_extension": ".py",
   "mimetype": "text/x-python",
   "name": "python",
   "nbconvert_exporter": "python",
   "pygments_lexer": "ipython3",
   "version": "3.7.3"
  }
 },
 "nbformat": 4,
 "nbformat_minor": 2
}
